{
 "cells": [
  {
   "cell_type": "markdown",
   "metadata": {},
   "source": [
    "# Model Creation and Analysis\n",
    "## Natural Language Processing Reddit Project\n",
    "### Zach Tretter, April 2020\n",
    "General Assembly, Data Science Immersion Cohort 11, Boston"
   ]
  },
  {
   "cell_type": "markdown",
   "metadata": {},
   "source": [
    "# Executive Summary\n",
    "\n",
    "### Problem Statement\n",
    "Explore the power of binary classification models to differentiate between two subreddits.\n",
    "\n",
    "### Project Methodology\n",
    "Two subreddits were considered : r/conservative and r/libertarian.  These subreddits were chosen because there is enough overlap between them to be interesting but still enough to distinguishable.  They are of comparable size (~350K users) and both advertise themselves as the \"the place for __ on reddit\". Additionally, other political subreddits have insane post volume that would have limited analysis to the past couple weeks.\n",
    "\n",
    "Data Extraction consisted of pulling 100K posts from each subreddit and then filtering for only those with more than 10 upvotes (i.e. score).  Upvoted content reflects that which is \"representative\" of a subreddit.  Over 2/3 of all posts on these subreddits received no upvotes.  A random sample of 5K was taken from each subreddit to maintain balanced classes.  The independent variable is submission title due to the prevalence of image and meme posts that are not yet interpretable for this analyst's machine learning abilities.\n",
    "\n",
    "Text Preprocessing consisted principaly of lemmatizing.  Numbers were kept in as \"2020\" and \"16\" have strong political meaning.  The subreddit names were removed as filtering based on these would not be interesting\n",
    "\n",
    "### Model Performance\n",
    "\n",
    "Baseline Score is 50%\n",
    "\n",
    "| Model                   | Train Score | Test Score | Test F1 Score |\n",
    "|-------------------------|-------------|------------|---------------|\n",
    "| Logistic CVEC           | 0.809733    | 0.7240     | 0.739623      |\n",
    "| Logistic TFIDF          | 0.832800    | 0.7292     | 0.735856      |\n",
    "| Multinomial Bayes CVEC  | 0.793200    | 0.7160     | 0.719589      |\n",
    "| Multinomial Bayes TFIDF | 0.797333    | 0.7164     | 0.719874      |\n",
    "| Support Vector CVEC     | 0.928400    | 0.7112     | 0.713264      |\n",
    "| Support Vector TFIDF    | 0.910000    | 0.6924     | 0.702284      |\n",
    "| Random Forest CVEC      | 0.858000    | 0.6744     | 0.709907      |\n",
    "| Random Forest TFIDF     | 0.858000    | 0.6744     | 0.709907      |\n",
    "\n",
    "### Principal Findings\n",
    "\n",
    "* All Models performed similarly on test data (~70%)\n",
    "    * SVCs and Random Forests particularly suffered from overfit\n",
    "    * TFIDF performed marginally better than Count Vectorizer for Logistic/Bayes/SVC\n",
    "        * Reverse performance with Random Forest\n",
    "    * Consistently more inaccurate predictions of conservative than of libertarian\n",
    "    \n",
    "\n",
    "* Findings from Grid Searches (Text Vectorizer Parmeters)\n",
    "    * Max Features : Models almost always select for more features\n",
    "    * Max_df : Consistently selected to be between 0.2 and 0.4\n",
    "    * Min_df : Not impactful, default chosen\n",
    "    * StopWords: Logistic selected for English, other classifiers selected none\n",
    "    * n-grams: Length 1,1 almost always selected\n",
    "    \n",
    " \n",
    "#### These models show we can be ~40% more accurate than a random guess!"
   ]
  },
  {
   "cell_type": "markdown",
   "metadata": {},
   "source": [
    "## Table of Contents\n",
    "- [Executive Summary](#Executive-Summary)\n",
    "- [Imports](#Imports)\n",
    "- [Data Import and Cleaning](#Data-Import-and-Cleaning)\n",
    "- [DataFrame Cleaning](#DataFrame-Cleaning)\n",
    "- [Pre-Processing](#Pre-Processing)\n",
    "- [Global Model Constructs](#Global-Model-Constructs)\n",
    "- [Logistic Regression](#Logistic-Regression)\n",
    "- [Multinomial Bayes](#Multinomial-Bates)\n",
    "- [Support Vector Machine](#Support-Vector-Machine)\n",
    "- [Random Forest](#Random-Forest)\n",
    "- [Summary Metrics](#Summary-Metrics)"
   ]
  },
  {
   "cell_type": "markdown",
   "metadata": {},
   "source": [
    "## Imports"
   ]
  },
  {
   "cell_type": "code",
   "execution_count": 2,
   "metadata": {
    "ExecuteTime": {
     "end_time": "2020-04-26T23:23:48.537662Z",
     "start_time": "2020-04-26T23:23:47.404118Z"
    }
   },
   "outputs": [],
   "source": [
    "# General Functionality\n",
    "import numpy as np\n",
    "import pandas as pd\n",
    "import time\n",
    "\n",
    "# Text Processing\n",
    "from nltk.tokenize import RegexpTokenizer\n",
    "from nltk.stem import WordNetLemmatizer\n",
    "from nltk.corpus import stopwords\n",
    "\n",
    "# Model Construction\n",
    "from sklearn.model_selection import train_test_split, GridSearchCV\n",
    "from sklearn.preprocessing import StandardScaler\n",
    "from sklearn.pipeline import Pipeline\n",
    "from sklearn import metrics\n",
    "from sklearn.metrics import confusion_matrix\n",
    "\n",
    "# Transformer and Classifier\n",
    "from sklearn.feature_extraction.text import CountVectorizer, TfidfVectorizer\n",
    "from sklearn.linear_model import LogisticRegression\n",
    "from sklearn.naive_bayes import MultinomialNB\n",
    "from sklearn.ensemble import RandomForestClassifier\n",
    "from sklearn.svm import SVC\n",
    "\n"
   ]
  },
  {
   "cell_type": "code",
   "execution_count": 3,
   "metadata": {
    "ExecuteTime": {
     "end_time": "2020-04-26T23:23:49.238449Z",
     "start_time": "2020-04-26T23:23:48.539608Z"
    }
   },
   "outputs": [],
   "source": [
    "# Read in our Data\n",
    "df = pd.read_csv('~/ga/project_3/DATA/subreddit_data.csv')\n",
    "\n",
    "# drop unnamed zero column\n",
    "df.drop(columns = 'Unnamed: 0',inplace=True)"
   ]
  },
  {
   "cell_type": "markdown",
   "metadata": {},
   "source": [
    "## DataFrame Cleaning\n",
    "* Verify the Subreddits\n",
    "* Set a score threshold\n",
    "* Draw a random sample\n",
    "* Reduce to core features of interest"
   ]
  },
  {
   "cell_type": "code",
   "execution_count": 4,
   "metadata": {
    "ExecuteTime": {
     "end_time": "2020-04-26T23:23:49.288317Z",
     "start_time": "2020-04-26T23:23:49.239413Z"
    }
   },
   "outputs": [
    {
     "name": "stdout",
     "output_type": "stream",
     "text": [
      "r/Libertarian is Class 1 and r/Conservative is Class 0\n"
     ]
    }
   ],
   "source": [
    "# Identify our Subreddits\n",
    "class1subreddit = df[df['class']==1]['subreddit'].unique()[0]\n",
    "class0subreddit = df[df['class']==0]['subreddit'].unique()[0]\n",
    "print(f\"r/{class1subreddit} is Class 1 and r/{class0subreddit} is Class 0\")"
   ]
  },
  {
   "cell_type": "code",
   "execution_count": 5,
   "metadata": {
    "ExecuteTime": {
     "end_time": "2020-04-26T23:23:49.621021Z",
     "start_time": "2020-04-26T23:23:49.595040Z"
    }
   },
   "outputs": [
    {
     "data": {
      "text/plain": [
       "class\n",
       "0    23809\n",
       "1    12210\n",
       "Name: title, dtype: int64"
      ]
     },
     "execution_count": 5,
     "metadata": {},
     "output_type": "execute_result"
    }
   ],
   "source": [
    "# Set a Score Threshold\n",
    "score_threshold = 10\n",
    "\n",
    "# Set a Sample Size to ensure parity in our classes\n",
    "sample_size = 5_000\n",
    "\n",
    "# Verify there is sufficient volume at this threshold\n",
    "df[(df['score']>=score_threshold)].groupby('class')['title'].count()"
   ]
  },
  {
   "cell_type": "code",
   "execution_count": 6,
   "metadata": {
    "ExecuteTime": {
     "end_time": "2020-04-26T23:23:50.802445Z",
     "start_time": "2020-04-26T23:23:50.763554Z"
    }
   },
   "outputs": [],
   "source": [
    "# Draw Samples from each subreddit\n",
    "df_sample_class0 = df[\n",
    "    (df['score']>=score_threshold) & \n",
    "    (df['class']==0)].sample(n = sample_size, \n",
    "                             random_state=42).copy()\n",
    "\n",
    "df_sample_class1 = df[\n",
    "    (df['score']>=score_threshold) & \n",
    "    (df['class']==1)].sample(n = sample_size,\n",
    "                             random_state=42).copy()\n",
    "\n",
    "df = df_sample_class0.append(df_sample_class1 )"
   ]
  },
  {
   "cell_type": "code",
   "execution_count": 7,
   "metadata": {
    "ExecuteTime": {
     "end_time": "2020-04-26T23:23:51.517607Z",
     "start_time": "2020-04-26T23:23:51.507670Z"
    }
   },
   "outputs": [
    {
     "data": {
      "text/plain": [
       "1    5000\n",
       "0    5000\n",
       "Name: class, dtype: int64"
      ]
     },
     "execution_count": 7,
     "metadata": {},
     "output_type": "execute_result"
    }
   ],
   "source": [
    "# Verify our classes are balanced\n",
    "df['class'].value_counts()"
   ]
  },
  {
   "cell_type": "code",
   "execution_count": 8,
   "metadata": {
    "ExecuteTime": {
     "end_time": "2020-04-26T23:23:52.183619Z",
     "start_time": "2020-04-26T23:23:52.172638Z"
    }
   },
   "outputs": [],
   "source": [
    "# Reduce to core columns for now\n",
    "df = df[['subreddit','title','selftext','score','class']]\n",
    "\n",
    "# Fill in NaNs with dashes\n",
    "df = df.fillna(\"-\")"
   ]
  },
  {
   "cell_type": "code",
   "execution_count": 9,
   "metadata": {
    "ExecuteTime": {
     "end_time": "2020-04-26T23:23:52.718177Z",
     "start_time": "2020-04-26T23:23:52.705204Z"
    }
   },
   "outputs": [
    {
     "data": {
      "text/html": [
       "<div>\n",
       "<style scoped>\n",
       "    .dataframe tbody tr th:only-of-type {\n",
       "        vertical-align: middle;\n",
       "    }\n",
       "\n",
       "    .dataframe tbody tr th {\n",
       "        vertical-align: top;\n",
       "    }\n",
       "\n",
       "    .dataframe thead th {\n",
       "        text-align: right;\n",
       "    }\n",
       "</style>\n",
       "<table border=\"1\" class=\"dataframe\">\n",
       "  <thead>\n",
       "    <tr style=\"text-align: right;\">\n",
       "      <th></th>\n",
       "      <th>subreddit</th>\n",
       "      <th>title</th>\n",
       "      <th>selftext</th>\n",
       "      <th>score</th>\n",
       "      <th>class</th>\n",
       "    </tr>\n",
       "  </thead>\n",
       "  <tbody>\n",
       "    <tr>\n",
       "      <th>54930</th>\n",
       "      <td>Conservative</td>\n",
       "      <td>Pro-Abortion Activists March in Mexico City, S...</td>\n",
       "      <td>-</td>\n",
       "      <td>63</td>\n",
       "      <td>0</td>\n",
       "    </tr>\n",
       "    <tr>\n",
       "      <th>54823</th>\n",
       "      <td>Conservative</td>\n",
       "      <td>Nigeria’s Democracy Is In Peril As Leaders Imp...</td>\n",
       "      <td>-</td>\n",
       "      <td>12</td>\n",
       "      <td>0</td>\n",
       "    </tr>\n",
       "    <tr>\n",
       "      <th>94104</th>\n",
       "      <td>Conservative</td>\n",
       "      <td>Horrible: Major British University Warns Jewis...</td>\n",
       "      <td>-</td>\n",
       "      <td>49</td>\n",
       "      <td>0</td>\n",
       "    </tr>\n",
       "    <tr>\n",
       "      <th>98500</th>\n",
       "      <td>Conservative</td>\n",
       "      <td>NYT: The Tables Have Turned -- Time To Investi...</td>\n",
       "      <td>-</td>\n",
       "      <td>94</td>\n",
       "      <td>0</td>\n",
       "    </tr>\n",
       "    <tr>\n",
       "      <th>3764</th>\n",
       "      <td>Conservative</td>\n",
       "      <td>Dow Jumps Nearly 800 Points After Sanders Drop...</td>\n",
       "      <td>-</td>\n",
       "      <td>19</td>\n",
       "      <td>0</td>\n",
       "    </tr>\n",
       "    <tr>\n",
       "      <th>...</th>\n",
       "      <td>...</td>\n",
       "      <td>...</td>\n",
       "      <td>...</td>\n",
       "      <td>...</td>\n",
       "      <td>...</td>\n",
       "    </tr>\n",
       "    <tr>\n",
       "      <th>197341</th>\n",
       "      <td>Libertarian</td>\n",
       "      <td>Federal Court: First Amendment Protects Sharin...</td>\n",
       "      <td>-</td>\n",
       "      <td>47</td>\n",
       "      <td>1</td>\n",
       "    </tr>\n",
       "    <tr>\n",
       "      <th>140397</th>\n",
       "      <td>Libertarian</td>\n",
       "      <td>What specific regulations are causing high hea...</td>\n",
       "      <td>I think libertarians often lose credibility wh...</td>\n",
       "      <td>10</td>\n",
       "      <td>1</td>\n",
       "    </tr>\n",
       "    <tr>\n",
       "      <th>139188</th>\n",
       "      <td>Libertarian</td>\n",
       "      <td>A Russian example of why government regulation...</td>\n",
       "      <td>I'm not Russian, but I've lived here for five ...</td>\n",
       "      <td>26</td>\n",
       "      <td>1</td>\n",
       "    </tr>\n",
       "    <tr>\n",
       "      <th>139483</th>\n",
       "      <td>Libertarian</td>\n",
       "      <td>Rand Paul sucks</td>\n",
       "      <td>-</td>\n",
       "      <td>30</td>\n",
       "      <td>1</td>\n",
       "    </tr>\n",
       "    <tr>\n",
       "      <th>134328</th>\n",
       "      <td>Libertarian</td>\n",
       "      <td>“If you have a lot of self-control, you don’t ...</td>\n",
       "      <td>-</td>\n",
       "      <td>82</td>\n",
       "      <td>1</td>\n",
       "    </tr>\n",
       "  </tbody>\n",
       "</table>\n",
       "<p>10000 rows × 5 columns</p>\n",
       "</div>"
      ],
      "text/plain": [
       "           subreddit                                              title  \\\n",
       "54930   Conservative  Pro-Abortion Activists March in Mexico City, S...   \n",
       "54823   Conservative  Nigeria’s Democracy Is In Peril As Leaders Imp...   \n",
       "94104   Conservative  Horrible: Major British University Warns Jewis...   \n",
       "98500   Conservative  NYT: The Tables Have Turned -- Time To Investi...   \n",
       "3764    Conservative  Dow Jumps Nearly 800 Points After Sanders Drop...   \n",
       "...              ...                                                ...   \n",
       "197341   Libertarian  Federal Court: First Amendment Protects Sharin...   \n",
       "140397   Libertarian  What specific regulations are causing high hea...   \n",
       "139188   Libertarian  A Russian example of why government regulation...   \n",
       "139483   Libertarian                                    Rand Paul sucks   \n",
       "134328   Libertarian  “If you have a lot of self-control, you don’t ...   \n",
       "\n",
       "                                                 selftext  score  class  \n",
       "54930                                                   -     63      0  \n",
       "54823                                                   -     12      0  \n",
       "94104                                                   -     49      0  \n",
       "98500                                                   -     94      0  \n",
       "3764                                                    -     19      0  \n",
       "...                                                   ...    ...    ...  \n",
       "197341                                                  -     47      1  \n",
       "140397  I think libertarians often lose credibility wh...     10      1  \n",
       "139188  I'm not Russian, but I've lived here for five ...     26      1  \n",
       "139483                                                  -     30      1  \n",
       "134328                                                  -     82      1  \n",
       "\n",
       "[10000 rows x 5 columns]"
      ]
     },
     "execution_count": 9,
     "metadata": {},
     "output_type": "execute_result"
    }
   ],
   "source": [
    "# View our Dataframe\n",
    "df"
   ]
  },
  {
   "cell_type": "markdown",
   "metadata": {},
   "source": [
    "## Text Pre-Processing"
   ]
  },
  {
   "cell_type": "code",
   "execution_count": 10,
   "metadata": {
    "ExecuteTime": {
     "end_time": "2020-04-26T23:23:55.512253Z",
     "start_time": "2020-04-26T23:23:55.508300Z"
    }
   },
   "outputs": [],
   "source": [
    "stopwords_custom =  [\n",
    "    'libertarian',\n",
    "    'libertarianism',\n",
    "    'conservative'\n",
    "]"
   ]
  },
  {
   "cell_type": "code",
   "execution_count": 11,
   "metadata": {
    "ExecuteTime": {
     "end_time": "2020-04-26T23:23:55.914379Z",
     "start_time": "2020-04-26T23:23:55.909456Z"
    }
   },
   "outputs": [],
   "source": [
    "def joint_token_lemma_function(document):\n",
    "    \n",
    "    tokenizer = RegexpTokenizer(\"\\w+\")\n",
    "    \n",
    "    token_list = tokenizer.tokenize(document.lower())\n",
    "    \n",
    "    lemmatizer = WordNetLemmatizer()\n",
    "    \n",
    "    lemmas = [lemmatizer.lemmatize(i) for i in token_list]\n",
    "    \n",
    "    words_to_remove = set(stopwords_custom)\n",
    "    \n",
    "    words_we_want = [word for word in lemmas if word not in words_to_remove]\n",
    "    \n",
    "    return \" \".join(words_we_want)"
   ]
  },
  {
   "cell_type": "code",
   "execution_count": 12,
   "metadata": {
    "ExecuteTime": {
     "end_time": "2020-04-26T23:23:57.344992Z",
     "start_time": "2020-04-26T23:23:57.340009Z"
    }
   },
   "outputs": [
    {
     "name": "stdout",
     "output_type": "stream",
     "text": [
      "New York City mayor Bill de Blasio is shocked that the criminals he released over virus concerns committed new crimes. He said Monday it is “unconscionable” that criminals released early from prison over coronavirus fears would commit new crimes.\n",
      "\n",
      "\n",
      "Poll: 74 percent of voters concerned about losing freedoms due to COVID-19\n",
      "\n",
      "\n",
      "The rest of this string should read as the word test repeated four times test conservative test libertarian test libertarianism test\n"
     ]
    }
   ],
   "source": [
    "# Sample Test Strings for our Word Cleaning Function\n",
    "test_string_conservative = \"New York City mayor Bill de Blasio is shocked that the criminals he released over virus concerns committed new crimes. He said Monday it is “unconscionable” that criminals released early from prison over coronavirus fears would commit new crimes.\"\n",
    "print(test_string_conservative)\n",
    "print('\\n')\n",
    "test_string_libertarian = \"Poll: 74 percent of voters concerned about losing freedoms due to COVID-19\"\n",
    "print(test_string_libertarian)\n",
    "print(\"\\n\")\n",
    "test_string_custom = \"The rest of this string should read as the word test repeated four times test conservative test libertarian test libertarianism test\"\n",
    "print(test_string_custom)"
   ]
  },
  {
   "cell_type": "code",
   "execution_count": 13,
   "metadata": {
    "ExecuteTime": {
     "end_time": "2020-04-26T23:23:59.802420Z",
     "start_time": "2020-04-26T23:23:58.579679Z"
    }
   },
   "outputs": [
    {
     "name": "stdout",
     "output_type": "stream",
     "text": [
      "new york city mayor bill de blasio is shocked that the criminal he released over virus concern committed new crime he said monday it is unconscionable that criminal released early from prison over coronavirus fear would commit new crime \n",
      "\n",
      "poll 74 percent of voter concerned about losing freedom due to covid 19 \n",
      "\n",
      "the rest of this string should read a the word test repeated four time test test test test\n"
     ]
    }
   ],
   "source": [
    "print(joint_token_lemma_function(test_string_conservative),\"\\n\")\n",
    "print(joint_token_lemma_function(test_string_libertarian),\"\\n\")\n",
    "print(joint_token_lemma_function(test_string_custom))"
   ]
  },
  {
   "cell_type": "markdown",
   "metadata": {},
   "source": [
    "## Global Model Constructs\n",
    "* Apply our text cleaning function to the dataframe\n",
    "* Define X and y\n",
    "* Train Test Split X and y\n",
    "* Create two functions to summarize model results\n",
    "* Use a consistent set of parameters to gridsearch over for CVEC and TFIDF"
   ]
  },
  {
   "cell_type": "code",
   "execution_count": 14,
   "metadata": {
    "ExecuteTime": {
     "end_time": "2020-04-26T23:24:01.328434Z",
     "start_time": "2020-04-26T23:24:00.779285Z"
    }
   },
   "outputs": [],
   "source": [
    "df['modified_title']=df['title'].apply(joint_token_lemma_function)"
   ]
  },
  {
   "cell_type": "code",
   "execution_count": 19,
   "metadata": {
    "ExecuteTime": {
     "end_time": "2020-04-26T23:24:16.259417Z",
     "start_time": "2020-04-26T23:24:16.244457Z"
    }
   },
   "outputs": [
    {
     "data": {
      "text/html": [
       "<div>\n",
       "<style scoped>\n",
       "    .dataframe tbody tr th:only-of-type {\n",
       "        vertical-align: middle;\n",
       "    }\n",
       "\n",
       "    .dataframe tbody tr th {\n",
       "        vertical-align: top;\n",
       "    }\n",
       "\n",
       "    .dataframe thead th {\n",
       "        text-align: right;\n",
       "    }\n",
       "</style>\n",
       "<table border=\"1\" class=\"dataframe\">\n",
       "  <thead>\n",
       "    <tr style=\"text-align: right;\">\n",
       "      <th></th>\n",
       "      <th>subreddit</th>\n",
       "      <th>score</th>\n",
       "      <th>class</th>\n",
       "      <th>title</th>\n",
       "      <th>modified_title</th>\n",
       "    </tr>\n",
       "  </thead>\n",
       "  <tbody>\n",
       "    <tr>\n",
       "      <th>54930</th>\n",
       "      <td>Conservative</td>\n",
       "      <td>63</td>\n",
       "      <td>0</td>\n",
       "      <td>Pro-Abortion Activists March in Mexico City, S...</td>\n",
       "      <td>pro abortion activist march in mexico city set...</td>\n",
       "    </tr>\n",
       "    <tr>\n",
       "      <th>54823</th>\n",
       "      <td>Conservative</td>\n",
       "      <td>12</td>\n",
       "      <td>0</td>\n",
       "      <td>Nigeria’s Democracy Is In Peril As Leaders Imp...</td>\n",
       "      <td>nigeria s democracy is in peril a leader impri...</td>\n",
       "    </tr>\n",
       "    <tr>\n",
       "      <th>94104</th>\n",
       "      <td>Conservative</td>\n",
       "      <td>49</td>\n",
       "      <td>0</td>\n",
       "      <td>Horrible: Major British University Warns Jewis...</td>\n",
       "      <td>horrible major british university warns jewish...</td>\n",
       "    </tr>\n",
       "    <tr>\n",
       "      <th>98500</th>\n",
       "      <td>Conservative</td>\n",
       "      <td>94</td>\n",
       "      <td>0</td>\n",
       "      <td>NYT: The Tables Have Turned -- Time To Investi...</td>\n",
       "      <td>nyt the table have turned time to investigate ...</td>\n",
       "    </tr>\n",
       "    <tr>\n",
       "      <th>3764</th>\n",
       "      <td>Conservative</td>\n",
       "      <td>19</td>\n",
       "      <td>0</td>\n",
       "      <td>Dow Jumps Nearly 800 Points After Sanders Drop...</td>\n",
       "      <td>dow jump nearly 800 point after sander drop ou...</td>\n",
       "    </tr>\n",
       "    <tr>\n",
       "      <th>...</th>\n",
       "      <td>...</td>\n",
       "      <td>...</td>\n",
       "      <td>...</td>\n",
       "      <td>...</td>\n",
       "      <td>...</td>\n",
       "    </tr>\n",
       "    <tr>\n",
       "      <th>197341</th>\n",
       "      <td>Libertarian</td>\n",
       "      <td>47</td>\n",
       "      <td>1</td>\n",
       "      <td>Federal Court: First Amendment Protects Sharin...</td>\n",
       "      <td>federal court first amendment protects sharing...</td>\n",
       "    </tr>\n",
       "    <tr>\n",
       "      <th>140397</th>\n",
       "      <td>Libertarian</td>\n",
       "      <td>10</td>\n",
       "      <td>1</td>\n",
       "      <td>What specific regulations are causing high hea...</td>\n",
       "      <td>what specific regulation are causing high heal...</td>\n",
       "    </tr>\n",
       "    <tr>\n",
       "      <th>139188</th>\n",
       "      <td>Libertarian</td>\n",
       "      <td>26</td>\n",
       "      <td>1</td>\n",
       "      <td>A Russian example of why government regulation...</td>\n",
       "      <td>a russian example of why government regulation...</td>\n",
       "    </tr>\n",
       "    <tr>\n",
       "      <th>139483</th>\n",
       "      <td>Libertarian</td>\n",
       "      <td>30</td>\n",
       "      <td>1</td>\n",
       "      <td>Rand Paul sucks</td>\n",
       "      <td>rand paul suck</td>\n",
       "    </tr>\n",
       "    <tr>\n",
       "      <th>134328</th>\n",
       "      <td>Libertarian</td>\n",
       "      <td>82</td>\n",
       "      <td>1</td>\n",
       "      <td>“If you have a lot of self-control, you don’t ...</td>\n",
       "      <td>if you have a lot of self control you don t ne...</td>\n",
       "    </tr>\n",
       "  </tbody>\n",
       "</table>\n",
       "<p>10000 rows × 5 columns</p>\n",
       "</div>"
      ],
      "text/plain": [
       "           subreddit  score  class  \\\n",
       "54930   Conservative     63      0   \n",
       "54823   Conservative     12      0   \n",
       "94104   Conservative     49      0   \n",
       "98500   Conservative     94      0   \n",
       "3764    Conservative     19      0   \n",
       "...              ...    ...    ...   \n",
       "197341   Libertarian     47      1   \n",
       "140397   Libertarian     10      1   \n",
       "139188   Libertarian     26      1   \n",
       "139483   Libertarian     30      1   \n",
       "134328   Libertarian     82      1   \n",
       "\n",
       "                                                    title  \\\n",
       "54930   Pro-Abortion Activists March in Mexico City, S...   \n",
       "54823   Nigeria’s Democracy Is In Peril As Leaders Imp...   \n",
       "94104   Horrible: Major British University Warns Jewis...   \n",
       "98500   NYT: The Tables Have Turned -- Time To Investi...   \n",
       "3764    Dow Jumps Nearly 800 Points After Sanders Drop...   \n",
       "...                                                   ...   \n",
       "197341  Federal Court: First Amendment Protects Sharin...   \n",
       "140397  What specific regulations are causing high hea...   \n",
       "139188  A Russian example of why government regulation...   \n",
       "139483                                    Rand Paul sucks   \n",
       "134328  “If you have a lot of self-control, you don’t ...   \n",
       "\n",
       "                                           modified_title  \n",
       "54930   pro abortion activist march in mexico city set...  \n",
       "54823   nigeria s democracy is in peril a leader impri...  \n",
       "94104   horrible major british university warns jewish...  \n",
       "98500   nyt the table have turned time to investigate ...  \n",
       "3764    dow jump nearly 800 point after sander drop ou...  \n",
       "...                                                   ...  \n",
       "197341  federal court first amendment protects sharing...  \n",
       "140397  what specific regulation are causing high heal...  \n",
       "139188  a russian example of why government regulation...  \n",
       "139483                                     rand paul suck  \n",
       "134328  if you have a lot of self control you don t ne...  \n",
       "\n",
       "[10000 rows x 5 columns]"
      ]
     },
     "execution_count": 19,
     "metadata": {},
     "output_type": "execute_result"
    }
   ],
   "source": [
    "df[['subreddit','score','class','title','modified_title']]"
   ]
  },
  {
   "cell_type": "code",
   "execution_count": 20,
   "metadata": {
    "ExecuteTime": {
     "end_time": "2020-04-26T23:24:17.797959Z",
     "start_time": "2020-04-26T23:24:17.794352Z"
    }
   },
   "outputs": [],
   "source": [
    "X = df['modified_title']\n",
    "y = df['class']"
   ]
  },
  {
   "cell_type": "code",
   "execution_count": 17,
   "metadata": {
    "ExecuteTime": {
     "end_time": "2020-04-26T23:24:07.290078Z",
     "start_time": "2020-04-26T23:24:07.282090Z"
    }
   },
   "outputs": [],
   "source": [
    "X_train, X_test, y_train, y_test = train_test_split(X, \n",
    "                                                    y, \n",
    "                                                    random_state = 123, \n",
    "                                                    stratify = y)"
   ]
  },
  {
   "cell_type": "code",
   "execution_count": 21,
   "metadata": {
    "ExecuteTime": {
     "end_time": "2020-04-26T23:24:20.783094Z",
     "start_time": "2020-04-26T23:24:20.778088Z"
    }
   },
   "outputs": [],
   "source": [
    "def display_pipeline_results(gridsearchobject):\n",
    "    print(f\"The best score is {gridsearchobject.best_score_} with these parameters:\")\n",
    "    for i in gridsearchobject.best_params_.items():\n",
    "        print(\"\\t\",i[0],\"at\",i[1])\n",
    "    print(f\"The train score of {gridsearchobject.best_estimator_.score(X_train,y_train)}\")\n",
    "    print(f\"The test score of {gridsearchobject.best_estimator_.score(X_test,y_test)}\") \n",
    "\n",
    "def display_confusionmatrix(y_test,predictions):\n",
    "    cm = confusion_matrix(y_test,predictions)\n",
    "    column_titles = ['Predicted '+class1subreddit, 'Predicted '+class0subreddit]\n",
    "    row_titles = ['Actually '+class1subreddit, 'Actually '+class0subreddit]\n",
    "    return pd.DataFrame(cm,columns=column_titles,index = row_titles)"
   ]
  },
  {
   "cell_type": "code",
   "execution_count": 52,
   "metadata": {
    "ExecuteTime": {
     "end_time": "2020-04-26T23:40:30.394019Z",
     "start_time": "2020-04-26T23:40:30.388070Z"
    }
   },
   "outputs": [],
   "source": [
    "# Identify the text parameters we'll be grid searching over for CVEC and TFIDF\n",
    "text_parameters = {\n",
    "    'max_features': [300, 800, 2500],\n",
    "    'min_df':[1], # this attribute seems to be irrelevant\n",
    "    'max_df':[0, 0.2,0.4,0.6, 0.8, 1],\n",
    "    'ngram_range':[[1,1], [1,2]],\n",
    "    'stop_words':['english', None]\n",
    "}"
   ]
  },
  {
   "cell_type": "markdown",
   "metadata": {},
   "source": [
    "## Logistic Regression\n",
    "For Count Vectorize and then Term Frequency–Inverse Document Frequency\n",
    "* Build a Pipeline and Gridsearch\n",
    "* Fit it\n",
    "* View the scores"
   ]
  },
  {
   "cell_type": "code",
   "execution_count": 53,
   "metadata": {
    "ExecuteTime": {
     "end_time": "2020-04-26T23:40:32.211088Z",
     "start_time": "2020-04-26T23:40:32.203112Z"
    }
   },
   "outputs": [],
   "source": [
    "# Build the Pipline\n",
    "pipe = Pipeline([\n",
    "    ('cvec',CountVectorizer()),\n",
    "    ('lr',LogisticRegression(max_iter = 250))\n",
    "])\n",
    "\n",
    "params = {\n",
    "    'cvec__max_features' : text_parameters['max_features'],\n",
    "    'cvec__min_df':text_parameters['min_df'],\n",
    "    'cvec__max_df':text_parameters['max_df'],\n",
    "    'cvec__ngram_range' : text_parameters['ngram_range'],\n",
    "    'cvec__stop_words' : text_parameters['stop_words'],\n",
    "    'lr__C' : [0.1,1,10] \n",
    "}\n",
    "\n",
    "gs_cvec_lr = GridSearchCV(pipe, params, cv = 5,\n",
    "                          n_jobs = -2,\n",
    "                          verbose = 5)"
   ]
  },
  {
   "cell_type": "code",
   "execution_count": 54,
   "metadata": {
    "ExecuteTime": {
     "end_time": "2020-04-26T23:41:14.119473Z",
     "start_time": "2020-04-26T23:40:32.931770Z"
    }
   },
   "outputs": [
    {
     "name": "stdout",
     "output_type": "stream",
     "text": [
      "Fitting 5 folds for each of 216 candidates, totalling 1080 fits\n"
     ]
    },
    {
     "name": "stderr",
     "output_type": "stream",
     "text": [
      "[Parallel(n_jobs=-2)]: Using backend LokyBackend with 11 concurrent workers.\n",
      "[Parallel(n_jobs=-2)]: Done  78 tasks      | elapsed:    1.6s\n",
      "[Parallel(n_jobs=-2)]: Done 258 tasks      | elapsed:    6.7s\n",
      "[Parallel(n_jobs=-2)]: Done 453 tasks      | elapsed:   14.6s\n",
      "[Parallel(n_jobs=-2)]: Done 615 tasks      | elapsed:   21.6s\n",
      "[Parallel(n_jobs=-2)]: Done 813 tasks      | elapsed:   29.5s\n",
      "[Parallel(n_jobs=-2)]: Done 1047 tasks      | elapsed:   39.4s\n"
     ]
    },
    {
     "name": "stdout",
     "output_type": "stream",
     "text": [
      "41.18470573425293 seconds to run \n",
      "\n"
     ]
    },
    {
     "name": "stderr",
     "output_type": "stream",
     "text": [
      "[Parallel(n_jobs=-2)]: Done 1080 out of 1080 | elapsed:   41.0s finished\n"
     ]
    }
   ],
   "source": [
    "# Let there be fit!\n",
    "start_the_clock = time.time()\n",
    "\n",
    "gs_cvec_lr.fit(X_train, y_train)\n",
    "\n",
    "print(f\"{time.time() - start_the_clock} seconds to run \\n\")\n"
   ]
  },
  {
   "cell_type": "code",
   "execution_count": 55,
   "metadata": {
    "ExecuteTime": {
     "end_time": "2020-04-26T23:41:21.761226Z",
     "start_time": "2020-04-26T23:41:21.595085Z"
    }
   },
   "outputs": [
    {
     "name": "stdout",
     "output_type": "stream",
     "text": [
      "The best score is 0.7433333333333334 with these parameters:\n",
      "\t cvec__max_df at 0.2\n",
      "\t cvec__max_features at 2500\n",
      "\t cvec__min_df at 1\n",
      "\t cvec__ngram_range at [1, 1]\n",
      "\t cvec__stop_words at english\n",
      "\t lr__C at 0.1\n",
      "The train score of 0.8097333333333333\n",
      "The test score of 0.724\n",
      "Our AUC is 0.7881670399999999\n"
     ]
    },
    {
     "data": {
      "text/html": [
       "<div>\n",
       "<style scoped>\n",
       "    .dataframe tbody tr th:only-of-type {\n",
       "        vertical-align: middle;\n",
       "    }\n",
       "\n",
       "    .dataframe tbody tr th {\n",
       "        vertical-align: top;\n",
       "    }\n",
       "\n",
       "    .dataframe thead th {\n",
       "        text-align: right;\n",
       "    }\n",
       "</style>\n",
       "<table border=\"1\" class=\"dataframe\">\n",
       "  <thead>\n",
       "    <tr style=\"text-align: right;\">\n",
       "      <th></th>\n",
       "      <th>Predicted Libertarian</th>\n",
       "      <th>Predicted Conservative</th>\n",
       "    </tr>\n",
       "  </thead>\n",
       "  <tbody>\n",
       "    <tr>\n",
       "      <th>Actually Libertarian</th>\n",
       "      <td>830</td>\n",
       "      <td>420</td>\n",
       "    </tr>\n",
       "    <tr>\n",
       "      <th>Actually Conservative</th>\n",
       "      <td>270</td>\n",
       "      <td>980</td>\n",
       "    </tr>\n",
       "  </tbody>\n",
       "</table>\n",
       "</div>"
      ],
      "text/plain": [
       "                       Predicted Libertarian  Predicted Conservative\n",
       "Actually Libertarian                     830                     420\n",
       "Actually Conservative                    270                     980"
      ]
     },
     "execution_count": 55,
     "metadata": {},
     "output_type": "execute_result"
    }
   ],
   "source": [
    "model_in_this_cell = gs_cvec_lr\n",
    "\n",
    "# Display Results for this Pipline\n",
    "display_pipeline_results(model_in_this_cell)\n",
    "\n",
    "# Display an roc area under the curve value\n",
    "print(f\"Our AUC is {metrics.roc_auc_score(y_test,model_in_this_cell.predict_proba(X_test)[:,1])}\")\n",
    "\n",
    "# Display Confusion Matrix\n",
    "display_confusionmatrix(y_test,model_in_this_cell.predict(X_test))"
   ]
  },
  {
   "cell_type": "code",
   "execution_count": 56,
   "metadata": {
    "ExecuteTime": {
     "end_time": "2020-04-26T23:41:27.198456Z",
     "start_time": "2020-04-26T23:41:26.835465Z"
    }
   },
   "outputs": [],
   "source": [
    "# Unpack our best CVEC inputs\n",
    "cvec_params = [x for x in list(gs_cvec_lr.best_params_.items()) if 'cvec' in x[0]]\n",
    "\n",
    "# Create a Count Vectorizer\n",
    "cvec = CountVectorizer(cvec_params)\n",
    "\n",
    "# Fit and Transform to the X train data\n",
    "X_train_cvec = cvec.fit_transform(X_train)\n",
    "# Transform the X test data\n",
    "X_test_cvec = cvec.transform(X_test)\n",
    "\n",
    "# Create a dataframe that we'll use to look at our coefficients\n",
    "# Transpose so that the features are on the y-axis\n",
    "X_train_cvec_df = pd.DataFrame(X_train_cvec.toarray(),\n",
    "                               columns=cvec.get_feature_names()).T\n",
    "\n",
    "# Instantiate a Logistic Regression\n",
    "lr = LogisticRegression(max_iter = 500,C=0.1)\n",
    "\n",
    "# Fit it to the transformed X_train\n",
    "lr.fit(X_train_cvec,y_train)\n",
    "\n",
    "# Add a column for our feature coefficients\n",
    "X_train_cvec_df['coefficients']=list(np.exp(lr.coef_[0]))"
   ]
  },
  {
   "cell_type": "code",
   "execution_count": 57,
   "metadata": {
    "ExecuteTime": {
     "end_time": "2020-04-26T23:41:28.829798Z",
     "start_time": "2020-04-26T23:41:27.771663Z"
    }
   },
   "outputs": [
    {
     "name": "stdout",
     "output_type": "stream",
     "text": [
      "Most predictive of r/Conservative\n",
      "democrat    3.189244\n",
      "cnn         2.975044\n",
      "biden       2.900565\n",
      "liberal     2.551663\n",
      "aoc         2.450560\n",
      "dems        2.308733\n",
      "climate     2.259992\n",
      "watch       2.242193\n",
      "omar        2.241133\n",
      "clinton     2.201184\n",
      "Name: coefficients, dtype: float64\n",
      "\n",
      "\n",
      "Most predictive of r/Libertarian\n",
      "government    2.434765\n",
      "tariff        1.970836\n",
      "paul          1.832067\n",
      "police        1.824586\n",
      "rand          1.815529\n",
      "amash         1.790284\n",
      "market        1.726388\n",
      "marijuana     1.702862\n",
      "gun           1.694839\n",
      "drug          1.670149\n",
      "Name: coefficients, dtype: float64\n"
     ]
    }
   ],
   "source": [
    "# Coefficients Most Predictive of the Class 0 Subreddit\n",
    "print(f'Most predictive of r/{class0subreddit}')\n",
    "print(1/X_train_cvec_df.sort_values('coefficients')['coefficients'].head(10))\n",
    "print(\"\\n\")\n",
    "\n",
    "# Coefficients Most Predictive of the Class 1 Subreddit\n",
    "print(f'Most predictive of r/{class1subreddit}')\n",
    "print(X_train_cvec_df.sort_values('coefficients',ascending=False)['coefficients'].head(10))"
   ]
  },
  {
   "cell_type": "code",
   "execution_count": 58,
   "metadata": {
    "ExecuteTime": {
     "end_time": "2020-04-26T23:41:30.580436Z",
     "start_time": "2020-04-26T23:41:30.571497Z"
    }
   },
   "outputs": [],
   "source": [
    "# Build the Pipline\n",
    "pipe = Pipeline([\n",
    "    ('tfidf',TfidfVectorizer()),\n",
    "    ('lr',LogisticRegression(max_iter = 500))\n",
    "])\n",
    "\n",
    "params = {\n",
    "    'tfidf__max_features' : text_parameters['max_features'],\n",
    "    'tfidf__min_df':text_parameters['min_df'],\n",
    "    'tfidf__max_df':text_parameters['max_df'],\n",
    "    'tfidf__ngram_range' : text_parameters['ngram_range'],\n",
    "    'tfidf__stop_words' : text_parameters['stop_words'],\n",
    "    'lr__C' : [0.1,1,10] \n",
    "}\n",
    "\n",
    "gs_tfidf_lr = GridSearchCV(pipe, params,cv = 5,\n",
    "                          n_jobs = -2,\n",
    "                          verbose = 5)"
   ]
  },
  {
   "cell_type": "code",
   "execution_count": 59,
   "metadata": {
    "ExecuteTime": {
     "end_time": "2020-04-26T23:42:16.762137Z",
     "start_time": "2020-04-26T23:41:31.538867Z"
    }
   },
   "outputs": [
    {
     "name": "stdout",
     "output_type": "stream",
     "text": [
      "Fitting 5 folds for each of 216 candidates, totalling 1080 fits\n"
     ]
    },
    {
     "name": "stderr",
     "output_type": "stream",
     "text": [
      "[Parallel(n_jobs=-2)]: Using backend LokyBackend with 11 concurrent workers.\n",
      "[Parallel(n_jobs=-2)]: Done  78 tasks      | elapsed:    2.1s\n",
      "[Parallel(n_jobs=-2)]: Done 258 tasks      | elapsed:    8.4s\n",
      "[Parallel(n_jobs=-2)]: Done 420 tasks      | elapsed:   15.0s\n",
      "[Parallel(n_jobs=-2)]: Done 582 tasks      | elapsed:   22.5s\n",
      "[Parallel(n_jobs=-2)]: Done 780 tasks      | elapsed:   30.8s\n",
      "[Parallel(n_jobs=-2)]: Done 1014 tasks      | elapsed:   42.4s\n",
      "[Parallel(n_jobs=-2)]: Done 1080 out of 1080 | elapsed:   44.9s finished\n"
     ]
    },
    {
     "name": "stdout",
     "output_type": "stream",
     "text": [
      "45.21828484535217 seconds to run \n",
      "\n"
     ]
    }
   ],
   "source": [
    "# Let there be fit!\n",
    "start_the_clock = time.time()\n",
    "\n",
    "gs_tfidf_lr.fit(X_train, y_train)\n",
    "\n",
    "print(f\"{time.time() - start_the_clock} seconds to run \\n\")\n"
   ]
  },
  {
   "cell_type": "code",
   "execution_count": 60,
   "metadata": {
    "ExecuteTime": {
     "end_time": "2020-04-26T23:42:35.734134Z",
     "start_time": "2020-04-26T23:42:35.442805Z"
    }
   },
   "outputs": [
    {
     "name": "stdout",
     "output_type": "stream",
     "text": [
      "The best score is 0.7405333333333333 with these parameters:\n",
      "\t lr__C at 1\n",
      "\t tfidf__max_df at 0.2\n",
      "\t tfidf__max_features at 2500\n",
      "\t tfidf__min_df at 1\n",
      "\t tfidf__ngram_range at [1, 2]\n",
      "\t tfidf__stop_words at english\n",
      "The train score of 0.8328\n",
      "The test score of 0.7292\n",
      "Our AUC is 0.79758752\n"
     ]
    },
    {
     "data": {
      "text/html": [
       "<div>\n",
       "<style scoped>\n",
       "    .dataframe tbody tr th:only-of-type {\n",
       "        vertical-align: middle;\n",
       "    }\n",
       "\n",
       "    .dataframe tbody tr th {\n",
       "        vertical-align: top;\n",
       "    }\n",
       "\n",
       "    .dataframe thead th {\n",
       "        text-align: right;\n",
       "    }\n",
       "</style>\n",
       "<table border=\"1\" class=\"dataframe\">\n",
       "  <thead>\n",
       "    <tr style=\"text-align: right;\">\n",
       "      <th></th>\n",
       "      <th>Predicted Libertarian</th>\n",
       "      <th>Predicted Conservative</th>\n",
       "    </tr>\n",
       "  </thead>\n",
       "  <tbody>\n",
       "    <tr>\n",
       "      <th>Actually Libertarian</th>\n",
       "      <td>880</td>\n",
       "      <td>370</td>\n",
       "    </tr>\n",
       "    <tr>\n",
       "      <th>Actually Conservative</th>\n",
       "      <td>307</td>\n",
       "      <td>943</td>\n",
       "    </tr>\n",
       "  </tbody>\n",
       "</table>\n",
       "</div>"
      ],
      "text/plain": [
       "                       Predicted Libertarian  Predicted Conservative\n",
       "Actually Libertarian                     880                     370\n",
       "Actually Conservative                    307                     943"
      ]
     },
     "execution_count": 60,
     "metadata": {},
     "output_type": "execute_result"
    }
   ],
   "source": [
    "model_in_this_cell = gs_tfidf_lr\n",
    "\n",
    "# Display Results for this Pipline\n",
    "display_pipeline_results(model_in_this_cell)\n",
    "\n",
    "# Display an roc area under the curve value\n",
    "print(f\"Our AUC is {metrics.roc_auc_score(y_test,model_in_this_cell.predict_proba(X_test)[:,1])}\")\n",
    "\n",
    "# Display Confusion Matrix\n",
    "display_confusionmatrix(y_test,model_in_this_cell.predict(X_test))"
   ]
  },
  {
   "cell_type": "code",
   "execution_count": 61,
   "metadata": {
    "ExecuteTime": {
     "end_time": "2020-04-26T23:42:39.745680Z",
     "start_time": "2020-04-26T23:42:39.473674Z"
    }
   },
   "outputs": [],
   "source": [
    "# Unpack our best TFIDF inputs\n",
    "tfidf_params = [x for x in list(gs_tfidf_lr.best_params_.items()) if 'tfidf' in x[0]]\n",
    "\n",
    "# Create a Count Vectorizer\n",
    "tfidf = TfidfVectorizer(tfidf_params)\n",
    "\n",
    "# Fit and Transform to the X train data\n",
    "X_train_tfidf = tfidf.fit_transform(X_train)\n",
    "# Transform the X test data\n",
    "X_test_tfidf = tfidf.transform(X_test)\n",
    "\n",
    "# Create a dataframe that we'll use to look at our coefficients\n",
    "# Transpose so that the features are on the y-axis\n",
    "X_train_tfidf_df = pd.DataFrame(X_train_tfidf.toarray(),columns=tfidf.get_feature_names()).T\n",
    "\n",
    "# Instantiate a Logistic Regression\n",
    "lr = LogisticRegression(max_iter = 500)\n",
    "\n",
    "# Fit it to the transformed X_train\n",
    "lr.fit(X_train_tfidf,y_train)\n",
    "\n",
    "# Add a column for our feature coefficients\n",
    "X_train_tfidf_df['coefficients']=list(np.exp(lr.coef_[0]))"
   ]
  },
  {
   "cell_type": "code",
   "execution_count": 62,
   "metadata": {
    "ExecuteTime": {
     "end_time": "2020-04-26T23:42:42.247916Z",
     "start_time": "2020-04-26T23:42:40.522650Z"
    }
   },
   "outputs": [
    {
     "name": "stdout",
     "output_type": "stream",
     "text": [
      "Most predictive of r/Conservative\n",
      "democrat    60.242516\n",
      "biden       28.319568\n",
      "cnn         27.375831\n",
      "liberal     15.062547\n",
      "aoc         14.698459\n",
      "dems        13.874114\n",
      "climate     13.173285\n",
      "omar        11.671782\n",
      "clinton     10.864782\n",
      "pelosi       9.961375\n",
      "Name: coefficients, dtype: float64\n",
      "\n",
      "\n",
      "Most predictive of r/Libertarian\n",
      "government    32.987725\n",
      "police         8.935407\n",
      "tariff         8.225776\n",
      "paul           7.656773\n",
      "gun            7.615683\n",
      "rand           5.956973\n",
      "this           5.824979\n",
      "amash          5.638409\n",
      "drug           5.373929\n",
      "law            5.249525\n",
      "Name: coefficients, dtype: float64\n"
     ]
    }
   ],
   "source": [
    "# Coefficients Most Predictive of the Class 0 Subreddit\n",
    "print(f'Most predictive of r/{class0subreddit}')\n",
    "print(1/X_train_tfidf_df.sort_values('coefficients')['coefficients'].head(10))\n",
    "print(\"\\n\")\n",
    "\n",
    "# Coefficients Most Predictive of the Class 1 Subreddit\n",
    "print(f'Most predictive of r/{class1subreddit}')\n",
    "print(X_train_tfidf_df.sort_values('coefficients',ascending=False)['coefficients'].head(10))"
   ]
  },
  {
   "cell_type": "markdown",
   "metadata": {},
   "source": [
    "## Multinomial Bayes\n",
    "For Count Vectorize and then Term Frequency–Inverse Document Frequency\n",
    "* Build a Pipeline and Gridsearch\n",
    "* Fit it\n",
    "* View the scores"
   ]
  },
  {
   "cell_type": "code",
   "execution_count": 63,
   "metadata": {
    "ExecuteTime": {
     "end_time": "2020-04-26T23:42:45.737250Z",
     "start_time": "2020-04-26T23:42:45.731267Z"
    }
   },
   "outputs": [],
   "source": [
    "# Build the Pipline\n",
    "pipe = Pipeline([\n",
    "    ('cvec',CountVectorizer()),\n",
    "    ('mnb',MultinomialNB())\n",
    "])\n",
    "\n",
    "params = {\n",
    "    'cvec__max_features' : text_parameters['max_features'],\n",
    "    'cvec__min_df':text_parameters['min_df'],\n",
    "    'cvec__max_df':text_parameters['max_df'],\n",
    "    'cvec__ngram_range' : text_parameters['ngram_range'],\n",
    "    'cvec__stop_words' : text_parameters['stop_words'],\n",
    "    'mnb__fit_prior' : [True,False] \n",
    "}\n",
    "\n",
    "gs_cvec_mnb = GridSearchCV(pipe, params, cv = 5,\n",
    "                          n_jobs = -2,\n",
    "                          verbose = 5)"
   ]
  },
  {
   "cell_type": "code",
   "execution_count": 64,
   "metadata": {
    "ExecuteTime": {
     "end_time": "2020-04-26T23:43:14.772186Z",
     "start_time": "2020-04-26T23:42:46.531410Z"
    }
   },
   "outputs": [
    {
     "name": "stdout",
     "output_type": "stream",
     "text": [
      "Fitting 5 folds for each of 144 candidates, totalling 720 fits\n"
     ]
    },
    {
     "name": "stderr",
     "output_type": "stream",
     "text": [
      "[Parallel(n_jobs=8)]: Using backend LokyBackend with 8 concurrent workers.\n",
      "[Parallel(n_jobs=8)]: Done   2 tasks      | elapsed:    0.1s\n",
      "[Parallel(n_jobs=8)]: Done  96 tasks      | elapsed:    2.2s\n",
      "[Parallel(n_jobs=8)]: Done 276 tasks      | elapsed:    8.8s\n",
      "[Parallel(n_jobs=8)]: Done 528 tasks      | elapsed:   19.8s\n"
     ]
    },
    {
     "name": "stdout",
     "output_type": "stream",
     "text": [
      "28.235747575759888 seconds to run \n",
      "\n"
     ]
    },
    {
     "name": "stderr",
     "output_type": "stream",
     "text": [
      "[Parallel(n_jobs=8)]: Done 720 out of 720 | elapsed:   27.9s finished\n"
     ]
    }
   ],
   "source": [
    "# Let there be fit!\n",
    "start_the_clock = time.time()\n",
    "\n",
    "gs_cvec_mnb.fit(X_train, y_train)\n",
    "\n",
    "print(f\"{time.time() - start_the_clock} seconds to run \\n\")"
   ]
  },
  {
   "cell_type": "code",
   "execution_count": 65,
   "metadata": {
    "ExecuteTime": {
     "end_time": "2020-04-26T23:43:59.405983Z",
     "start_time": "2020-04-26T23:43:59.228461Z"
    }
   },
   "outputs": [
    {
     "name": "stdout",
     "output_type": "stream",
     "text": [
      "The best score is 0.7190666666666666 with these parameters:\n",
      "\t cvec__max_df at 0.4\n",
      "\t cvec__max_features at 2500\n",
      "\t cvec__min_df at 1\n",
      "\t cvec__ngram_range at [1, 1]\n",
      "\t cvec__stop_words at None\n",
      "\t mnb__fit_prior at True\n",
      "The train score of 0.7932\n",
      "The test score of 0.716\n",
      "Our AUC is 0.7932870399999998\n"
     ]
    },
    {
     "data": {
      "text/html": [
       "<div>\n",
       "<style scoped>\n",
       "    .dataframe tbody tr th:only-of-type {\n",
       "        vertical-align: middle;\n",
       "    }\n",
       "\n",
       "    .dataframe tbody tr th {\n",
       "        vertical-align: top;\n",
       "    }\n",
       "\n",
       "    .dataframe thead th {\n",
       "        text-align: right;\n",
       "    }\n",
       "</style>\n",
       "<table border=\"1\" class=\"dataframe\">\n",
       "  <thead>\n",
       "    <tr style=\"text-align: right;\">\n",
       "      <th></th>\n",
       "      <th>Predicted Libertarian</th>\n",
       "      <th>Predicted Conservative</th>\n",
       "    </tr>\n",
       "  </thead>\n",
       "  <tbody>\n",
       "    <tr>\n",
       "      <th>Actually Libertarian</th>\n",
       "      <td>879</td>\n",
       "      <td>371</td>\n",
       "    </tr>\n",
       "    <tr>\n",
       "      <th>Actually Conservative</th>\n",
       "      <td>339</td>\n",
       "      <td>911</td>\n",
       "    </tr>\n",
       "  </tbody>\n",
       "</table>\n",
       "</div>"
      ],
      "text/plain": [
       "                       Predicted Libertarian  Predicted Conservative\n",
       "Actually Libertarian                     879                     371\n",
       "Actually Conservative                    339                     911"
      ]
     },
     "execution_count": 65,
     "metadata": {},
     "output_type": "execute_result"
    }
   ],
   "source": [
    "model_in_this_cell = gs_cvec_mnb\n",
    "\n",
    "# Display Results for this Pipline\n",
    "display_pipeline_results(model_in_this_cell)\n",
    "\n",
    "# Display an roc area under the curve value\n",
    "print(f\"Our AUC is {metrics.roc_auc_score(y_test,model_in_this_cell.predict_proba(X_test)[:,1])}\")\n",
    "\n",
    "# Display Confusion Matrix\n",
    "display_confusionmatrix(y_test,model_in_this_cell.predict(X_test))"
   ]
  },
  {
   "cell_type": "code",
   "execution_count": 66,
   "metadata": {
    "ExecuteTime": {
     "end_time": "2020-04-26T23:44:01.937457Z",
     "start_time": "2020-04-26T23:44:01.931474Z"
    }
   },
   "outputs": [],
   "source": [
    "# Build the Pipline\n",
    "pipe = Pipeline([\n",
    "    ('tfidf',TfidfVectorizer()),\n",
    "    ('mnb',MultinomialNB())\n",
    "])\n",
    "\n",
    "params = {\n",
    "    'tfidf__max_features' : text_parameters['max_features'],\n",
    "    'tfidf__min_df':text_parameters['min_df'],\n",
    "    'tfidf__max_df':text_parameters['max_df'],\n",
    "    'tfidf__ngram_range' : text_parameters['ngram_range'],\n",
    "    'tfidf__stop_words' : text_parameters['stop_words'],\n",
    "    'mnb__fit_prior' : [True,False] \n",
    "}\n",
    "\n",
    "gs_tfidf_mnb = GridSearchCV(pipe, params, cv = 5,\n",
    "                          n_jobs = -2,\n",
    "                          verbose = 5)"
   ]
  },
  {
   "cell_type": "code",
   "execution_count": 67,
   "metadata": {
    "ExecuteTime": {
     "end_time": "2020-04-26T23:44:26.404203Z",
     "start_time": "2020-04-26T23:44:02.994348Z"
    }
   },
   "outputs": [
    {
     "name": "stdout",
     "output_type": "stream",
     "text": [
      "Fitting 5 folds for each of 144 candidates, totalling 720 fits\n"
     ]
    },
    {
     "name": "stderr",
     "output_type": "stream",
     "text": [
      "[Parallel(n_jobs=8)]: Using backend LokyBackend with 8 concurrent workers.\n",
      "[Parallel(n_jobs=8)]: Done   2 tasks      | elapsed:    0.0s\n",
      "[Parallel(n_jobs=8)]: Done  96 tasks      | elapsed:    2.5s\n",
      "[Parallel(n_jobs=8)]: Done 276 tasks      | elapsed:    8.8s\n",
      "[Parallel(n_jobs=8)]: Done 528 tasks      | elapsed:   16.7s\n"
     ]
    },
    {
     "name": "stdout",
     "output_type": "stream",
     "text": [
      "23.40483593940735 seconds to run \n",
      "\n"
     ]
    },
    {
     "name": "stderr",
     "output_type": "stream",
     "text": [
      "[Parallel(n_jobs=8)]: Done 720 out of 720 | elapsed:   23.2s finished\n"
     ]
    }
   ],
   "source": [
    "# Let there be fit!\n",
    "start_the_clock = time.time()\n",
    "\n",
    "gs_tfidf_mnb.fit(X_train, y_train)\n",
    "\n",
    "print(f\"{time.time() - start_the_clock} seconds to run \\n\")"
   ]
  },
  {
   "cell_type": "code",
   "execution_count": 69,
   "metadata": {
    "ExecuteTime": {
     "end_time": "2020-04-26T23:44:39.187649Z",
     "start_time": "2020-04-26T23:44:39.003635Z"
    }
   },
   "outputs": [
    {
     "name": "stdout",
     "output_type": "stream",
     "text": [
      "The best score is 0.7196 with these parameters:\n",
      "\t mnb__fit_prior at True\n",
      "\t tfidf__max_df at 0.2\n",
      "\t tfidf__max_features at 2500\n",
      "\t tfidf__min_df at 1\n",
      "\t tfidf__ngram_range at [1, 1]\n",
      "\t tfidf__stop_words at None\n",
      "The train score of 0.7973333333333333\n",
      "The test score of 0.7164\n",
      "Our AUC is 0.79702656\n"
     ]
    },
    {
     "data": {
      "text/html": [
       "<div>\n",
       "<style scoped>\n",
       "    .dataframe tbody tr th:only-of-type {\n",
       "        vertical-align: middle;\n",
       "    }\n",
       "\n",
       "    .dataframe tbody tr th {\n",
       "        vertical-align: top;\n",
       "    }\n",
       "\n",
       "    .dataframe thead th {\n",
       "        text-align: right;\n",
       "    }\n",
       "</style>\n",
       "<table border=\"1\" class=\"dataframe\">\n",
       "  <thead>\n",
       "    <tr style=\"text-align: right;\">\n",
       "      <th></th>\n",
       "      <th>Predicted Libertarian</th>\n",
       "      <th>Predicted Conservative</th>\n",
       "    </tr>\n",
       "  </thead>\n",
       "  <tbody>\n",
       "    <tr>\n",
       "      <th>Actually Libertarian</th>\n",
       "      <td>880</td>\n",
       "      <td>370</td>\n",
       "    </tr>\n",
       "    <tr>\n",
       "      <th>Actually Conservative</th>\n",
       "      <td>339</td>\n",
       "      <td>911</td>\n",
       "    </tr>\n",
       "  </tbody>\n",
       "</table>\n",
       "</div>"
      ],
      "text/plain": [
       "                       Predicted Libertarian  Predicted Conservative\n",
       "Actually Libertarian                     880                     370\n",
       "Actually Conservative                    339                     911"
      ]
     },
     "execution_count": 69,
     "metadata": {},
     "output_type": "execute_result"
    }
   ],
   "source": [
    "model_in_this_cell = gs_tfidf_mnb\n",
    "\n",
    "# Display Results for this Pipline\n",
    "display_pipeline_results(model_in_this_cell)\n",
    "\n",
    "# Display an roc area under the curve value\n",
    "print(f\"Our AUC is {metrics.roc_auc_score(y_test,model_in_this_cell.predict_proba(X_test)[:,1])}\")\n",
    "\n",
    "# Display Confusion Matrix\n",
    "display_confusionmatrix(y_test,model_in_this_cell.predict(X_test))"
   ]
  },
  {
   "cell_type": "markdown",
   "metadata": {},
   "source": [
    "## Support Vector Machine\n",
    "For Count Vectorize and then Term Frequency–Inverse Document Frequency\n",
    "* Build a Pipeline and Gridsearch\n",
    "* Fit it\n",
    "* View the scores"
   ]
  },
  {
   "cell_type": "code",
   "execution_count": 72,
   "metadata": {
    "ExecuteTime": {
     "end_time": "2020-04-26T23:44:51.622322Z",
     "start_time": "2020-04-26T23:44:51.617304Z"
    }
   },
   "outputs": [],
   "source": [
    "# Build the Pipline\n",
    "pipe = Pipeline([\n",
    "    ('cvec',CountVectorizer()),\n",
    "    ('ss',StandardScaler(with_mean = False)),\n",
    "    ('svc',SVC())\n",
    "])\n",
    "\n",
    "params = {\n",
    "    'cvec__max_features' : text_parameters['max_features'],\n",
    "    'cvec__min_df':text_parameters['min_df'],\n",
    "    'cvec__max_df':text_parameters['max_df'],\n",
    "    'cvec__ngram_range' : text_parameters['ngram_range'],\n",
    "    'cvec__stop_words' : text_parameters['stop_words'],\n",
    "}\n",
    "\n",
    "gs_cvec_svc = GridSearchCV(pipe, params, cv = 5,\n",
    "                          n_jobs = -2,\n",
    "                          verbose = 5)"
   ]
  },
  {
   "cell_type": "code",
   "execution_count": 73,
   "metadata": {
    "ExecuteTime": {
     "end_time": "2020-04-26T23:47:20.063442Z",
     "start_time": "2020-04-26T23:44:51.948991Z"
    }
   },
   "outputs": [
    {
     "name": "stdout",
     "output_type": "stream",
     "text": [
      "Fitting 5 folds for each of 72 candidates, totalling 360 fits\n"
     ]
    },
    {
     "name": "stderr",
     "output_type": "stream",
     "text": [
      "[Parallel(n_jobs=8)]: Using backend LokyBackend with 8 concurrent workers.\n",
      "[Parallel(n_jobs=8)]: Done   2 tasks      | elapsed:    1.2s\n",
      "[Parallel(n_jobs=8)]: Done  56 tasks      | elapsed:    2.7s\n",
      "[Parallel(n_jobs=8)]: Done 146 tasks      | elapsed:   46.9s\n",
      "[Parallel(n_jobs=8)]: Done 272 tasks      | elapsed:  1.9min\n",
      "[Parallel(n_jobs=8)]: Done 360 out of 360 | elapsed:  2.4min finished\n"
     ]
    },
    {
     "name": "stdout",
     "output_type": "stream",
     "text": [
      "148.11143517494202 seconds to run \n",
      "\n"
     ]
    }
   ],
   "source": [
    "# Let there be fit!\n",
    "start_the_clock = time.time()\n",
    "\n",
    "gs_cvec_svc.fit(X_train, y_train)\n",
    "\n",
    "print(f\"{time.time() - start_the_clock} seconds to run \\n\")"
   ]
  },
  {
   "cell_type": "code",
   "execution_count": 74,
   "metadata": {
    "ExecuteTime": {
     "end_time": "2020-04-26T23:48:19.720338Z",
     "start_time": "2020-04-26T23:48:13.245273Z"
    }
   },
   "outputs": [
    {
     "name": "stdout",
     "output_type": "stream",
     "text": [
      "The best score is 0.7146666666666668 with these parameters:\n",
      "\t cvec__max_df at 0.4\n",
      "\t cvec__max_features at 2500\n",
      "\t cvec__min_df at 1\n",
      "\t cvec__ngram_range at [1, 1]\n",
      "\t cvec__stop_words at None\n",
      "The train score of 0.9284\n",
      "The test score of 0.7112\n"
     ]
    },
    {
     "data": {
      "text/html": [
       "<div>\n",
       "<style scoped>\n",
       "    .dataframe tbody tr th:only-of-type {\n",
       "        vertical-align: middle;\n",
       "    }\n",
       "\n",
       "    .dataframe tbody tr th {\n",
       "        vertical-align: top;\n",
       "    }\n",
       "\n",
       "    .dataframe thead th {\n",
       "        text-align: right;\n",
       "    }\n",
       "</style>\n",
       "<table border=\"1\" class=\"dataframe\">\n",
       "  <thead>\n",
       "    <tr style=\"text-align: right;\">\n",
       "      <th></th>\n",
       "      <th>Predicted Libertarian</th>\n",
       "      <th>Predicted Conservative</th>\n",
       "    </tr>\n",
       "  </thead>\n",
       "  <tbody>\n",
       "    <tr>\n",
       "      <th>Actually Libertarian</th>\n",
       "      <td>880</td>\n",
       "      <td>370</td>\n",
       "    </tr>\n",
       "    <tr>\n",
       "      <th>Actually Conservative</th>\n",
       "      <td>352</td>\n",
       "      <td>898</td>\n",
       "    </tr>\n",
       "  </tbody>\n",
       "</table>\n",
       "</div>"
      ],
      "text/plain": [
       "                       Predicted Libertarian  Predicted Conservative\n",
       "Actually Libertarian                     880                     370\n",
       "Actually Conservative                    352                     898"
      ]
     },
     "execution_count": 74,
     "metadata": {},
     "output_type": "execute_result"
    }
   ],
   "source": [
    "model_in_this_cell = gs_cvec_svc\n",
    "\n",
    "# Display Results for this Pipline\n",
    "display_pipeline_results(model_in_this_cell)\n",
    "\n",
    "# # Display an roc area under the curve value\n",
    "# print(f\"Our AUC is {metrics.roc_auc_score(y_test,model_in_this_cell.predict_proba(X_test)[:,1])}\")\n",
    "\n",
    "# Display Confusion Matrix\n",
    "display_confusionmatrix(y_test,model_in_this_cell.predict(X_test))"
   ]
  },
  {
   "cell_type": "code",
   "execution_count": 78,
   "metadata": {
    "ExecuteTime": {
     "end_time": "2020-04-26T23:48:31.049084Z",
     "start_time": "2020-04-26T23:48:31.044089Z"
    }
   },
   "outputs": [],
   "source": [
    "# Build the Pipline\n",
    "pipe = Pipeline([\n",
    "    ('tfidf',TfidfVectorizer()),\n",
    "    ('ss',StandardScaler(with_mean = False)),\n",
    "    ('svc',SVC())\n",
    "])\n",
    "\n",
    "params = {\n",
    "    'tfidf__max_features' : text_parameters['max_features'],\n",
    "    'tfidf__min_df':text_parameters['min_df'],\n",
    "    'tfidf__max_df':text_parameters['max_df'],\n",
    "    'tfidf__ngram_range' : text_parameters['ngram_range'],\n",
    "    'tfidf__stop_words' : text_parameters['stop_words'],\n",
    "}\n",
    "\n",
    "gs_tfidf_svc = GridSearchCV(pipe, params, cv = 5,\n",
    "                          n_jobs = -2,\n",
    "                          verbose = 10)"
   ]
  },
  {
   "cell_type": "code",
   "execution_count": 79,
   "metadata": {
    "ExecuteTime": {
     "end_time": "2020-04-26T23:50:45.706727Z",
     "start_time": "2020-04-26T23:48:31.188068Z"
    }
   },
   "outputs": [
    {
     "name": "stdout",
     "output_type": "stream",
     "text": [
      "Fitting 5 folds for each of 72 candidates, totalling 360 fits\n"
     ]
    },
    {
     "name": "stderr",
     "output_type": "stream",
     "text": [
      "[Parallel(n_jobs=-2)]: Using backend LokyBackend with 11 concurrent workers.\n",
      "[Parallel(n_jobs=-2)]: Done   3 tasks      | elapsed:    1.3s\n",
      "[Parallel(n_jobs=-2)]: Done  10 tasks      | elapsed:    1.4s\n",
      "[Parallel(n_jobs=-2)]: Done  19 tasks      | elapsed:    1.8s\n",
      "[Parallel(n_jobs=-2)]: Done  28 tasks      | elapsed:    2.0s\n",
      "[Parallel(n_jobs=-2)]: Done  39 tasks      | elapsed:    2.4s\n",
      "[Parallel(n_jobs=-2)]: Done  50 tasks      | elapsed:    2.6s\n",
      "[Parallel(n_jobs=-2)]: Done  63 tasks      | elapsed:    5.4s\n",
      "[Parallel(n_jobs=-2)]: Done  76 tasks      | elapsed:    9.8s\n",
      "[Parallel(n_jobs=-2)]: Done  91 tasks      | elapsed:   15.5s\n",
      "[Parallel(n_jobs=-2)]: Done 106 tasks      | elapsed:   23.5s\n",
      "[Parallel(n_jobs=-2)]: Done 123 tasks      | elapsed:   32.4s\n",
      "[Parallel(n_jobs=-2)]: Done 140 tasks      | elapsed:   38.8s\n",
      "[Parallel(n_jobs=-2)]: Done 159 tasks      | elapsed:   48.8s\n",
      "[Parallel(n_jobs=-2)]: Done 178 tasks      | elapsed:   59.3s\n",
      "[Parallel(n_jobs=-2)]: Done 199 tasks      | elapsed:  1.2min\n",
      "[Parallel(n_jobs=-2)]: Done 220 tasks      | elapsed:  1.3min\n",
      "[Parallel(n_jobs=-2)]: Done 243 tasks      | elapsed:  1.6min\n",
      "[Parallel(n_jobs=-2)]: Done 266 tasks      | elapsed:  1.7min\n",
      "[Parallel(n_jobs=-2)]: Done 291 tasks      | elapsed:  2.0min\n",
      "[Parallel(n_jobs=-2)]: Done 316 tasks      | elapsed:  2.1min\n",
      "[Parallel(n_jobs=-2)]: Done 360 out of 360 | elapsed:  2.2min finished\n"
     ]
    },
    {
     "name": "stdout",
     "output_type": "stream",
     "text": [
      "134.5156753063202 seconds to run \n",
      "\n"
     ]
    }
   ],
   "source": [
    "# Let there be fit!\n",
    "start_the_clock = time.time()\n",
    "\n",
    "gs_tfidf_svc.fit(X_train, y_train)\n",
    "\n",
    "print(f\"{time.time() - start_the_clock} seconds to run \\n\")"
   ]
  },
  {
   "cell_type": "code",
   "execution_count": 80,
   "metadata": {
    "ExecuteTime": {
     "end_time": "2020-04-26T23:50:52.298038Z",
     "start_time": "2020-04-26T23:50:47.339895Z"
    }
   },
   "outputs": [
    {
     "name": "stdout",
     "output_type": "stream",
     "text": [
      "The best score is 0.7174666666666666 with these parameters:\n",
      "\t tfidf__max_df at 0.4\n",
      "\t tfidf__max_features at 800\n",
      "\t tfidf__min_df at 1\n",
      "\t tfidf__ngram_range at [1, 1]\n",
      "\t tfidf__stop_words at None\n",
      "The train score of 0.91\n",
      "The test score of 0.6924\n"
     ]
    },
    {
     "data": {
      "text/html": [
       "<div>\n",
       "<style scoped>\n",
       "    .dataframe tbody tr th:only-of-type {\n",
       "        vertical-align: middle;\n",
       "    }\n",
       "\n",
       "    .dataframe tbody tr th {\n",
       "        vertical-align: top;\n",
       "    }\n",
       "\n",
       "    .dataframe thead th {\n",
       "        text-align: right;\n",
       "    }\n",
       "</style>\n",
       "<table border=\"1\" class=\"dataframe\">\n",
       "  <thead>\n",
       "    <tr style=\"text-align: right;\">\n",
       "      <th></th>\n",
       "      <th>Predicted Libertarian</th>\n",
       "      <th>Predicted Conservative</th>\n",
       "    </tr>\n",
       "  </thead>\n",
       "  <tbody>\n",
       "    <tr>\n",
       "      <th>Actually Libertarian</th>\n",
       "      <td>824</td>\n",
       "      <td>426</td>\n",
       "    </tr>\n",
       "    <tr>\n",
       "      <th>Actually Conservative</th>\n",
       "      <td>343</td>\n",
       "      <td>907</td>\n",
       "    </tr>\n",
       "  </tbody>\n",
       "</table>\n",
       "</div>"
      ],
      "text/plain": [
       "                       Predicted Libertarian  Predicted Conservative\n",
       "Actually Libertarian                     824                     426\n",
       "Actually Conservative                    343                     907"
      ]
     },
     "execution_count": 80,
     "metadata": {},
     "output_type": "execute_result"
    }
   ],
   "source": [
    "model_in_this_cell = gs_tfidf_svc\n",
    "\n",
    "# Display Results for this Pipline\n",
    "display_pipeline_results(model_in_this_cell)\n",
    "\n",
    "# # Display an roc area under the curve value\n",
    "# print(f\"Our AUC is {metrics.roc_auc_score(y_test,model_in_this_cell.predict_proba(X_test)[:,1])}\")\n",
    "\n",
    "# Display Confusion Matrix\n",
    "display_confusionmatrix(y_test,model_in_this_cell.predict(X_test))"
   ]
  },
  {
   "cell_type": "markdown",
   "metadata": {},
   "source": [
    "## Random Forest\n",
    "For Count Vectorize and then Term Frequency–Inverse Document Frequency\n",
    "* Build a Pipeline and Gridsearch\n",
    "* Fit it\n",
    "* View the scores"
   ]
  },
  {
   "cell_type": "code",
   "execution_count": 83,
   "metadata": {
    "ExecuteTime": {
     "end_time": "2020-04-26T23:51:03.535818Z",
     "start_time": "2020-04-26T23:51:03.530946Z"
    }
   },
   "outputs": [],
   "source": [
    "# Build the Pipline\n",
    "pipe = Pipeline([\n",
    "    ('cvec',CountVectorizer()),\n",
    "    ('rf',RandomForestClassifier()),\n",
    "])\n",
    "\n",
    "params = {\n",
    "    'cvec__max_features' : text_parameters['max_features'],\n",
    "    'cvec__min_df':text_parameters['min_df'],\n",
    "    'cvec__max_df':text_parameters['max_df'],\n",
    "    'cvec__ngram_range' : text_parameters['ngram_range'],\n",
    "    'cvec__stop_words' : text_parameters['stop_words'],\n",
    "    \n",
    "    'rf__n_estimators' : [5,25],\n",
    "    'rf__max_depth' : [5,15,45]}\n",
    "\n",
    "gs_cvec_rf = GridSearchCV(pipe, params, cv = 5,\n",
    "                          n_jobs = -2,\n",
    "                          verbose = 5)"
   ]
  },
  {
   "cell_type": "code",
   "execution_count": 84,
   "metadata": {
    "ExecuteTime": {
     "end_time": "2020-04-26T23:52:33.346522Z",
     "start_time": "2020-04-26T23:51:03.659929Z"
    },
    "scrolled": false
   },
   "outputs": [
    {
     "name": "stdout",
     "output_type": "stream",
     "text": [
      "Fitting 5 folds for each of 432 candidates, totalling 2160 fits\n"
     ]
    },
    {
     "name": "stderr",
     "output_type": "stream",
     "text": [
      "[Parallel(n_jobs=-2)]: Using backend LokyBackend with 11 concurrent workers.\n",
      "[Parallel(n_jobs=-2)]: Done  50 tasks      | elapsed:    2.3s\n",
      "[Parallel(n_jobs=-2)]: Done 140 tasks      | elapsed:    4.8s\n",
      "[Parallel(n_jobs=-2)]: Done 266 tasks      | elapsed:    8.4s\n",
      "[Parallel(n_jobs=-2)]: Done 428 tasks      | elapsed:   14.0s\n",
      "[Parallel(n_jobs=-2)]: Done 626 tasks      | elapsed:   23.4s\n",
      "[Parallel(n_jobs=-2)]: Done 860 tasks      | elapsed:   33.6s\n",
      "[Parallel(n_jobs=-2)]: Done 1130 tasks      | elapsed:   44.0s\n",
      "[Parallel(n_jobs=-2)]: Done 1436 tasks      | elapsed:   57.9s\n",
      "[Parallel(n_jobs=-2)]: Done 1778 tasks      | elapsed:  1.2min\n",
      "[Parallel(n_jobs=-2)]: Done 2160 out of 2160 | elapsed:  1.5min finished\n"
     ]
    },
    {
     "name": "stdout",
     "output_type": "stream",
     "text": [
      "89.6806092262268 seconds to run \n",
      "\n"
     ]
    }
   ],
   "source": [
    "# Let there be fit!\n",
    "start_the_clock = time.time()\n",
    "\n",
    "gs_cvec_rf.fit(X_train, y_train)\n",
    "\n",
    "print(f\"{time.time() - start_the_clock} seconds to run \\n\")"
   ]
  },
  {
   "cell_type": "code",
   "execution_count": 85,
   "metadata": {
    "ExecuteTime": {
     "end_time": "2020-04-26T23:52:50.734389Z",
     "start_time": "2020-04-26T23:52:50.491313Z"
    }
   },
   "outputs": [
    {
     "name": "stdout",
     "output_type": "stream",
     "text": [
      "The best score is 0.7097333333333333 with these parameters:\n",
      "\t cvec__max_df at 0.2\n",
      "\t cvec__max_features at 2500\n",
      "\t cvec__min_df at 1\n",
      "\t cvec__ngram_range at [1, 1]\n",
      "\t cvec__stop_words at None\n",
      "\t rf__max_depth at 45\n",
      "\t rf__n_estimators at 25\n",
      "The train score of 0.858\n",
      "The test score of 0.6744\n",
      "Our AUC is 0.73879744\n"
     ]
    },
    {
     "data": {
      "text/html": [
       "<div>\n",
       "<style scoped>\n",
       "    .dataframe tbody tr th:only-of-type {\n",
       "        vertical-align: middle;\n",
       "    }\n",
       "\n",
       "    .dataframe tbody tr th {\n",
       "        vertical-align: top;\n",
       "    }\n",
       "\n",
       "    .dataframe thead th {\n",
       "        text-align: right;\n",
       "    }\n",
       "</style>\n",
       "<table border=\"1\" class=\"dataframe\">\n",
       "  <thead>\n",
       "    <tr style=\"text-align: right;\">\n",
       "      <th></th>\n",
       "      <th>Predicted Libertarian</th>\n",
       "      <th>Predicted Conservative</th>\n",
       "    </tr>\n",
       "  </thead>\n",
       "  <tbody>\n",
       "    <tr>\n",
       "      <th>Actually Libertarian</th>\n",
       "      <td>690</td>\n",
       "      <td>560</td>\n",
       "    </tr>\n",
       "    <tr>\n",
       "      <th>Actually Conservative</th>\n",
       "      <td>254</td>\n",
       "      <td>996</td>\n",
       "    </tr>\n",
       "  </tbody>\n",
       "</table>\n",
       "</div>"
      ],
      "text/plain": [
       "                       Predicted Libertarian  Predicted Conservative\n",
       "Actually Libertarian                     690                     560\n",
       "Actually Conservative                    254                     996"
      ]
     },
     "execution_count": 85,
     "metadata": {},
     "output_type": "execute_result"
    }
   ],
   "source": [
    "model_in_this_cell = gs_cvec_rf\n",
    "\n",
    "# Display Results for this Pipline\n",
    "display_pipeline_results(model_in_this_cell)\n",
    "\n",
    "# # Display an roc area under the curve value\n",
    "print(f\"Our AUC is {metrics.roc_auc_score(y_test,model_in_this_cell.predict_proba(X_test)[:,1])}\")\n",
    "\n",
    "# Display Confusion Matrix\n",
    "display_confusionmatrix(y_test,model_in_this_cell.predict(X_test))"
   ]
  },
  {
   "cell_type": "code",
   "execution_count": 86,
   "metadata": {
    "ExecuteTime": {
     "end_time": "2020-04-26T23:52:53.826074Z",
     "start_time": "2020-04-26T23:52:53.820088Z"
    }
   },
   "outputs": [],
   "source": [
    "# Build the Pipline\n",
    "pipe = Pipeline([\n",
    "    ('tfidf',TfidfVectorizer()),\n",
    "    ('rf',RandomForestClassifier()),\n",
    "])\n",
    "\n",
    "params = {\n",
    "    'tfidf__max_features' : text_parameters['max_features'],\n",
    "    'tfidf__min_df':text_parameters['min_df'],\n",
    "    'tfidf__max_df':text_parameters['max_df'],\n",
    "    'tfidf__ngram_range' : text_parameters['ngram_range'],\n",
    "    'tfidf__stop_words' : text_parameters['stop_words'],\n",
    "    \n",
    "    'rf__n_estimators' : [5,25],\n",
    "    'rf__max_depth' : [5,15,45]}\n",
    "\n",
    "gs_tfidf_rf = GridSearchCV(pipe, params, cv = 5,\n",
    "                          n_jobs = -2,\n",
    "                          verbose = 5)"
   ]
  },
  {
   "cell_type": "code",
   "execution_count": 87,
   "metadata": {
    "ExecuteTime": {
     "end_time": "2020-04-26T23:54:35.884447Z",
     "start_time": "2020-04-26T23:52:54.483744Z"
    }
   },
   "outputs": [
    {
     "name": "stdout",
     "output_type": "stream",
     "text": [
      "Fitting 5 folds for each of 432 candidates, totalling 2160 fits\n"
     ]
    },
    {
     "name": "stderr",
     "output_type": "stream",
     "text": [
      "[Parallel(n_jobs=8)]: Using backend LokyBackend with 8 concurrent workers.\n",
      "[Parallel(n_jobs=8)]: Batch computation too fast (0.1466s.) Setting batch_size=2.\n",
      "[Parallel(n_jobs=8)]: Done   2 tasks      | elapsed:    0.1s\n",
      "[Parallel(n_jobs=8)]: Done   9 tasks      | elapsed:    0.2s\n",
      "[Parallel(n_jobs=8)]: Done  16 tasks      | elapsed:    0.5s\n",
      "[Parallel(n_jobs=8)]: Done  34 tasks      | elapsed:    1.0s\n",
      "[Parallel(n_jobs=8)]: Done  52 tasks      | elapsed:    1.6s\n",
      "[Parallel(n_jobs=8)]: Done  74 tasks      | elapsed:    2.3s\n",
      "[Parallel(n_jobs=8)]: Done  96 tasks      | elapsed:    3.0s\n",
      "[Parallel(n_jobs=8)]: Done 122 tasks      | elapsed:    3.8s\n",
      "[Parallel(n_jobs=8)]: Done 148 tasks      | elapsed:    4.6s\n",
      "[Parallel(n_jobs=8)]: Done 178 tasks      | elapsed:    5.7s\n",
      "[Parallel(n_jobs=8)]: Done 208 tasks      | elapsed:    6.6s\n",
      "[Parallel(n_jobs=8)]: Done 242 tasks      | elapsed:    7.8s\n",
      "[Parallel(n_jobs=8)]: Done 276 tasks      | elapsed:    9.1s\n",
      "[Parallel(n_jobs=8)]: Done 314 tasks      | elapsed:   10.3s\n",
      "[Parallel(n_jobs=8)]: Done 352 tasks      | elapsed:   11.5s\n",
      "[Parallel(n_jobs=8)]: Done 394 tasks      | elapsed:   12.7s\n",
      "[Parallel(n_jobs=8)]: Done 436 tasks      | elapsed:   14.3s\n",
      "[Parallel(n_jobs=8)]: Done 482 tasks      | elapsed:   16.0s\n",
      "[Parallel(n_jobs=8)]: Done 528 tasks      | elapsed:   18.0s\n",
      "[Parallel(n_jobs=8)]: Done 578 tasks      | elapsed:   20.1s\n",
      "[Parallel(n_jobs=8)]: Done 628 tasks      | elapsed:   22.0s\n",
      "[Parallel(n_jobs=8)]: Done 682 tasks      | elapsed:   24.3s\n",
      "[Parallel(n_jobs=8)]: Done 736 tasks      | elapsed:   26.1s\n",
      "[Parallel(n_jobs=8)]: Done 794 tasks      | elapsed:   27.8s\n",
      "[Parallel(n_jobs=8)]: Done 852 tasks      | elapsed:   30.3s\n",
      "[Parallel(n_jobs=8)]: Done 914 tasks      | elapsed:   32.9s\n",
      "[Parallel(n_jobs=8)]: Done 976 tasks      | elapsed:   35.3s\n",
      "[Parallel(n_jobs=8)]: Done 1042 tasks      | elapsed:   37.9s\n",
      "[Parallel(n_jobs=8)]: Done 1108 tasks      | elapsed:   40.4s\n",
      "[Parallel(n_jobs=8)]: Batch computation too slow (2.0471s.) Setting batch_size=1.\n",
      "[Parallel(n_jobs=8)]: Done 1178 tasks      | elapsed:   44.4s\n",
      "[Parallel(n_jobs=8)]: Done 1224 tasks      | elapsed:   47.1s\n",
      "[Parallel(n_jobs=8)]: Done 1261 tasks      | elapsed:   49.0s\n",
      "[Parallel(n_jobs=8)]: Done 1298 tasks      | elapsed:   51.1s\n",
      "[Parallel(n_jobs=8)]: Done 1337 tasks      | elapsed:   53.3s\n",
      "[Parallel(n_jobs=8)]: Done 1376 tasks      | elapsed:   55.3s\n",
      "[Parallel(n_jobs=8)]: Done 1417 tasks      | elapsed:   57.8s\n",
      "[Parallel(n_jobs=8)]: Done 1458 tasks      | elapsed:   59.5s\n",
      "[Parallel(n_jobs=8)]: Done 1501 tasks      | elapsed:  1.0min\n",
      "[Parallel(n_jobs=8)]: Done 1544 tasks      | elapsed:  1.1min\n",
      "[Parallel(n_jobs=8)]: Done 1589 tasks      | elapsed:  1.1min\n",
      "[Parallel(n_jobs=8)]: Done 1634 tasks      | elapsed:  1.1min\n",
      "[Parallel(n_jobs=8)]: Done 1681 tasks      | elapsed:  1.2min\n",
      "[Parallel(n_jobs=8)]: Done 1728 tasks      | elapsed:  1.2min\n",
      "[Parallel(n_jobs=8)]: Done 1777 tasks      | elapsed:  1.3min\n",
      "[Parallel(n_jobs=8)]: Done 1826 tasks      | elapsed:  1.3min\n",
      "[Parallel(n_jobs=8)]: Done 1877 tasks      | elapsed:  1.3min\n",
      "[Parallel(n_jobs=8)]: Done 1928 tasks      | elapsed:  1.4min\n",
      "[Parallel(n_jobs=8)]: Done 1981 tasks      | elapsed:  1.5min\n",
      "[Parallel(n_jobs=8)]: Done 2034 tasks      | elapsed:  1.5min\n",
      "[Parallel(n_jobs=8)]: Done 2089 tasks      | elapsed:  1.6min\n",
      "[Parallel(n_jobs=8)]: Done 2144 tasks      | elapsed:  1.7min\n",
      "[Parallel(n_jobs=8)]: Done 2160 out of 2160 | elapsed:  1.7min finished\n"
     ]
    },
    {
     "name": "stdout",
     "output_type": "stream",
     "text": [
      "101.39671230316162 seconds to run \n",
      "\n"
     ]
    }
   ],
   "source": [
    "# Let there be fit!\n",
    "start_the_clock = time.time()\n",
    "\n",
    "gs_tfidf_rf.fit(X_train, y_train)\n",
    "\n",
    "print(f\"{time.time() - start_the_clock} seconds to run \\n\")"
   ]
  },
  {
   "cell_type": "code",
   "execution_count": 88,
   "metadata": {
    "ExecuteTime": {
     "end_time": "2020-04-26T23:54:43.116454Z",
     "start_time": "2020-04-26T23:54:42.794814Z"
    }
   },
   "outputs": [
    {
     "name": "stdout",
     "output_type": "stream",
     "text": [
      "The best score is 0.7083999999999999 with these parameters:\n",
      "\t rf__max_depth at 45\n",
      "\t rf__n_estimators at 25\n",
      "\t tfidf__max_df at 0.4\n",
      "\t tfidf__max_features at 2500\n",
      "\t tfidf__min_df at 1\n",
      "\t tfidf__ngram_range at [1, 1]\n",
      "\t tfidf__stop_words at english\n",
      "The train score of 0.8276\n",
      "The test score of 0.6804\n",
      "Our AUC is 0.75092896\n"
     ]
    },
    {
     "data": {
      "text/html": [
       "<div>\n",
       "<style scoped>\n",
       "    .dataframe tbody tr th:only-of-type {\n",
       "        vertical-align: middle;\n",
       "    }\n",
       "\n",
       "    .dataframe tbody tr th {\n",
       "        vertical-align: top;\n",
       "    }\n",
       "\n",
       "    .dataframe thead th {\n",
       "        text-align: right;\n",
       "    }\n",
       "</style>\n",
       "<table border=\"1\" class=\"dataframe\">\n",
       "  <thead>\n",
       "    <tr style=\"text-align: right;\">\n",
       "      <th></th>\n",
       "      <th>Predicted Libertarian</th>\n",
       "      <th>Predicted Conservative</th>\n",
       "    </tr>\n",
       "  </thead>\n",
       "  <tbody>\n",
       "    <tr>\n",
       "      <th>Actually Libertarian</th>\n",
       "      <td>676</td>\n",
       "      <td>574</td>\n",
       "    </tr>\n",
       "    <tr>\n",
       "      <th>Actually Conservative</th>\n",
       "      <td>225</td>\n",
       "      <td>1025</td>\n",
       "    </tr>\n",
       "  </tbody>\n",
       "</table>\n",
       "</div>"
      ],
      "text/plain": [
       "                       Predicted Libertarian  Predicted Conservative\n",
       "Actually Libertarian                     676                     574\n",
       "Actually Conservative                    225                    1025"
      ]
     },
     "execution_count": 88,
     "metadata": {},
     "output_type": "execute_result"
    }
   ],
   "source": [
    "model_in_this_cell = gs_tfidf_rf\n",
    "\n",
    "# Display Results for this Pipline\n",
    "display_pipeline_results(model_in_this_cell)\n",
    "\n",
    "# # Display an roc area under the curve value\n",
    "print(f\"Our AUC is {metrics.roc_auc_score(y_test,model_in_this_cell.predict_proba(X_test)[:,1])}\")\n",
    "\n",
    "# Display Confusion Matrix\n",
    "display_confusionmatrix(y_test,model_in_this_cell.predict(X_test))"
   ]
  },
  {
   "cell_type": "markdown",
   "metadata": {},
   "source": [
    "## Summary Metrics"
   ]
  },
  {
   "cell_type": "code",
   "execution_count": 145,
   "metadata": {
    "ExecuteTime": {
     "end_time": "2020-04-27T00:26:42.354443Z",
     "start_time": "2020-04-27T00:26:28.985070Z"
    }
   },
   "outputs": [
    {
     "data": {
      "text/html": [
       "<div>\n",
       "<style scoped>\n",
       "    .dataframe tbody tr th:only-of-type {\n",
       "        vertical-align: middle;\n",
       "    }\n",
       "\n",
       "    .dataframe tbody tr th {\n",
       "        vertical-align: top;\n",
       "    }\n",
       "\n",
       "    .dataframe thead th {\n",
       "        text-align: right;\n",
       "    }\n",
       "</style>\n",
       "<table border=\"1\" class=\"dataframe\">\n",
       "  <thead>\n",
       "    <tr style=\"text-align: right;\">\n",
       "      <th></th>\n",
       "      <th>Train Score</th>\n",
       "      <th>Test Score</th>\n",
       "      <th>Test F1 Score</th>\n",
       "    </tr>\n",
       "  </thead>\n",
       "  <tbody>\n",
       "    <tr>\n",
       "      <th>Logistic CVEC</th>\n",
       "      <td>0.809733</td>\n",
       "      <td>0.7240</td>\n",
       "      <td>0.739623</td>\n",
       "    </tr>\n",
       "    <tr>\n",
       "      <th>Logistic TFIDF</th>\n",
       "      <td>0.832800</td>\n",
       "      <td>0.7292</td>\n",
       "      <td>0.735856</td>\n",
       "    </tr>\n",
       "    <tr>\n",
       "      <th>Multinomial Bayes CVEC</th>\n",
       "      <td>0.793200</td>\n",
       "      <td>0.7160</td>\n",
       "      <td>0.719589</td>\n",
       "    </tr>\n",
       "    <tr>\n",
       "      <th>Multinomial Bayes TFIDF</th>\n",
       "      <td>0.797333</td>\n",
       "      <td>0.7164</td>\n",
       "      <td>0.719874</td>\n",
       "    </tr>\n",
       "    <tr>\n",
       "      <th>Support Vector CVEC</th>\n",
       "      <td>0.928400</td>\n",
       "      <td>0.7112</td>\n",
       "      <td>0.713264</td>\n",
       "    </tr>\n",
       "    <tr>\n",
       "      <th>Support Vector TFIDF</th>\n",
       "      <td>0.910000</td>\n",
       "      <td>0.6924</td>\n",
       "      <td>0.702284</td>\n",
       "    </tr>\n",
       "    <tr>\n",
       "      <th>Random Forest CVEC</th>\n",
       "      <td>0.858000</td>\n",
       "      <td>0.6744</td>\n",
       "      <td>0.709907</td>\n",
       "    </tr>\n",
       "    <tr>\n",
       "      <th>Random Forest TFIDF</th>\n",
       "      <td>0.858000</td>\n",
       "      <td>0.6744</td>\n",
       "      <td>0.709907</td>\n",
       "    </tr>\n",
       "  </tbody>\n",
       "</table>\n",
       "</div>"
      ],
      "text/plain": [
       "                         Train Score  Test Score  Test F1 Score\n",
       "Logistic CVEC               0.809733      0.7240       0.739623\n",
       "Logistic TFIDF              0.832800      0.7292       0.735856\n",
       "Multinomial Bayes CVEC      0.793200      0.7160       0.719589\n",
       "Multinomial Bayes TFIDF     0.797333      0.7164       0.719874\n",
       "Support Vector CVEC         0.928400      0.7112       0.713264\n",
       "Support Vector TFIDF        0.910000      0.6924       0.702284\n",
       "Random Forest CVEC          0.858000      0.6744       0.709907\n",
       "Random Forest TFIDF         0.858000      0.6744       0.709907"
      ]
     },
     "execution_count": 145,
     "metadata": {},
     "output_type": "execute_result"
    }
   ],
   "source": [
    "from sklearn.metrics import f1_score\n",
    "\n",
    "model_dict = {\n",
    "    'models':{\n",
    "        'Logistic CVEC':gs_cvec_lr,\n",
    "        'Logistic TFIDF':gs_tfidf_lr,\n",
    "        'Multinomial Bayes CVEC':gs_cvec_mnb,\n",
    "        'Multinomial Bayes TFIDF':gs_tfidf_mnb,\n",
    "        'Support Vector CVEC':gs_cvec_svc,\n",
    "        'Support Vector TFIDF':gs_tfidf_svc,\n",
    "        'Random Forest CVEC':gs_cvec_rf,\n",
    "        'Random Forest TFIDF':gs_cvec_rf\n",
    "    }}\n",
    "\n",
    "model_dict['Train Score'] = [i.best_estimator_.score(X_train,y_train)\n",
    "                           for i in model_dict['models'].values()]\n",
    "\n",
    "model_dict['Test Score'] = [i.best_estimator_.score(X_test,y_test)\n",
    "                           for i in model_dict['models'].values()]\n",
    "\n",
    "model_dict['Test F1 Score'] = [f1_score(y_test,i.predict(X_test)) \n",
    "                                 for i in model_dict['models'].values()]\n",
    "\n",
    "\n",
    "pd.DataFrame( data = [model_dict['Train Score'],\n",
    "                      model_dict['Test Score'],\n",
    "                      model_dict['Test F1 Score']],\n",
    "            columns = list(model_dict['models'].keys()),\n",
    "            index = ['Train Score','Test Score','Test F1 Score']).T"
   ]
  },
  {
   "cell_type": "code",
   "execution_count": 129,
   "metadata": {
    "ExecuteTime": {
     "end_time": "2020-04-27T00:11:27.528030Z",
     "start_time": "2020-04-27T00:11:17.627893Z"
    }
   },
   "outputs": [
    {
     "name": "stdout",
     "output_type": "stream",
     "text": [
      "The best score is 0.7433333333333334 with these parameters:\n",
      "\t cvec__max_df at 0.2\n",
      "\t cvec__max_features at 2500\n",
      "\t cvec__min_df at 1\n",
      "\t cvec__ngram_range at [1, 1]\n",
      "\t cvec__stop_words at english\n",
      "\t lr__C at 0.1\n",
      "The train score of 0.8097333333333333\n",
      "The test score of 0.724\n",
      "The best score is 0.7405333333333333 with these parameters:\n",
      "\t lr__C at 1\n",
      "\t tfidf__max_df at 0.2\n",
      "\t tfidf__max_features at 2500\n",
      "\t tfidf__min_df at 1\n",
      "\t tfidf__ngram_range at [1, 2]\n",
      "\t tfidf__stop_words at english\n",
      "The train score of 0.8328\n",
      "The test score of 0.7292\n",
      "The best score is 0.7190666666666666 with these parameters:\n",
      "\t cvec__max_df at 0.4\n",
      "\t cvec__max_features at 2500\n",
      "\t cvec__min_df at 1\n",
      "\t cvec__ngram_range at [1, 1]\n",
      "\t cvec__stop_words at None\n",
      "\t mnb__fit_prior at True\n",
      "The train score of 0.7932\n",
      "The test score of 0.716\n",
      "The best score is 0.7196 with these parameters:\n",
      "\t mnb__fit_prior at True\n",
      "\t tfidf__max_df at 0.2\n",
      "\t tfidf__max_features at 2500\n",
      "\t tfidf__min_df at 1\n",
      "\t tfidf__ngram_range at [1, 1]\n",
      "\t tfidf__stop_words at None\n",
      "The train score of 0.7973333333333333\n",
      "The test score of 0.7164\n",
      "The best score is 0.7146666666666668 with these parameters:\n",
      "\t cvec__max_df at 0.4\n",
      "\t cvec__max_features at 2500\n",
      "\t cvec__min_df at 1\n",
      "\t cvec__ngram_range at [1, 1]\n",
      "\t cvec__stop_words at None\n",
      "The train score of 0.9284\n",
      "The test score of 0.7112\n",
      "The best score is 0.7174666666666666 with these parameters:\n",
      "\t tfidf__max_df at 0.4\n",
      "\t tfidf__max_features at 800\n",
      "\t tfidf__min_df at 1\n",
      "\t tfidf__ngram_range at [1, 1]\n",
      "\t tfidf__stop_words at None\n",
      "The train score of 0.91\n",
      "The test score of 0.6924\n",
      "The best score is 0.7097333333333333 with these parameters:\n",
      "\t cvec__max_df at 0.2\n",
      "\t cvec__max_features at 2500\n",
      "\t cvec__min_df at 1\n",
      "\t cvec__ngram_range at [1, 1]\n",
      "\t cvec__stop_words at None\n",
      "\t rf__max_depth at 45\n",
      "\t rf__n_estimators at 25\n",
      "The train score of 0.858\n",
      "The test score of 0.6744\n",
      "The best score is 0.7083999999999999 with these parameters:\n",
      "\t rf__max_depth at 45\n",
      "\t rf__n_estimators at 25\n",
      "\t tfidf__max_df at 0.4\n",
      "\t tfidf__max_features at 2500\n",
      "\t tfidf__min_df at 1\n",
      "\t tfidf__ngram_range at [1, 1]\n",
      "\t tfidf__stop_words at english\n",
      "The train score of 0.8276\n",
      "The test score of 0.6804\n"
     ]
    }
   ],
   "source": [
    "# Parameters\n",
    "# List of Models\n",
    "list_of_models = [gs_cvec_lr, \n",
    "                  gs_tfidf_lr,\n",
    "                  gs_cvec_mnb, \n",
    "                  gs_tfidf_mnb,\n",
    "                  gs_cvec_svc, \n",
    "                  gs_tfidf_svc,\n",
    "                  gs_cvec_rf, \n",
    "                  gs_tfidf_rf]\n",
    "\n",
    "for i in list_of_models:\n",
    "    display_pipeline_results(i)"
   ]
  }
 ],
 "metadata": {
  "kernelspec": {
   "display_name": "Python 3",
   "language": "python",
   "name": "python3"
  },
  "language_info": {
   "codemirror_mode": {
    "name": "ipython",
    "version": 3
   },
   "file_extension": ".py",
   "mimetype": "text/x-python",
   "name": "python",
   "nbconvert_exporter": "python",
   "pygments_lexer": "ipython3",
   "version": "3.7.6"
  },
  "toc": {
   "base_numbering": 1,
   "nav_menu": {},
   "number_sections": false,
   "sideBar": true,
   "skip_h1_title": false,
   "title_cell": "Table of Contents",
   "title_sidebar": "Contents",
   "toc_cell": false,
   "toc_position": {
    "height": "calc(100% - 180px)",
    "left": "10px",
    "top": "150px",
    "width": "465.455px"
   },
   "toc_section_display": true,
   "toc_window_display": true
  }
 },
 "nbformat": 4,
 "nbformat_minor": 4
}
